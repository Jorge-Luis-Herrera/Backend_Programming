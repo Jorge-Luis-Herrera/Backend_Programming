{
 "cells": [
  {
   "cell_type": "markdown",
   "id": "66833be2",
   "metadata": {},
   "source": [
    "# The first view ,register"
   ]
  },
  {
   "cell_type": "markdown",
   "id": "c783ab9b",
   "metadata": {},
   "source": [
    "When the user visits the auth/register URL,the register view will return HTML with a form for them to fill out .When they submit the form,it will validate their input and either show the form again with an error message of create the new user and go to the login page ."
   ]
  },
  {
   "cell_type": "markdown",
   "id": "c87409cc",
   "metadata": {},
   "source": [
    "For now you will just write the view code .On the next page ,you`ll write templates to generate the HTML form."
   ]
  },
  {
   "cell_type": "code",
   "execution_count": 2,
   "id": "2ea0ae10",
   "metadata": {},
   "outputs": [
    {
     "ename": "_IncompleteInputError",
     "evalue": "incomplete input (346055931.py, line 24)",
     "output_type": "error",
     "traceback": [
      "  \u001b[36mCell\u001b[39m\u001b[36m \u001b[39m\u001b[32mIn[2]\u001b[39m\u001b[32m, line 24\u001b[39m\n\u001b[31m    \u001b[39m\u001b[31m)\u001b[39m\n     ^\n\u001b[31m_IncompleteInputError\u001b[39m\u001b[31m:\u001b[39m incomplete input\n"
     ]
    }
   ],
   "source": [
    "from flask import Flask,request\n",
    "from flask import (\n",
    "    Blueprint,flash,g,redirect,render_template,request,session,url_for\n",
    ")\n",
    "\n",
    "@bp.route('/register',methods=('GET','POST'))\n",
    "\n",
    "def register():\n",
    "    if request.method == 'POST':\n",
    "        username = request.form['username']\n",
    "        password = request.form['password']\n",
    "        db = get_db()\n",
    "        error = None\n",
    "    if not username:\n",
    "        error = 'username is required'\n",
    "    elif not password:\n",
    "        error = 'password is required'\n",
    "    \n",
    "    if error is None:\n",
    "        try:\n",
    "            db.execute(\n",
    "                \"INSERT INTO user(username,password) VALUES (?,?)\",\n",
    "                (username,generate_password_hash(password)),\n",
    "            )\n"
   ]
  },
  {
   "cell_type": "markdown",
   "id": "3a075e34",
   "metadata": {},
   "source": [
    "1. @bp.route associates the URL /register with the register view function. When Flask receives a request\n",
    "to /auth/register, it will call the register view and use the return value as the response.\n",
    "2. If the user submitted the form, request.method will be 'POST'. In this case, start validating the input.\n",
    "3. request.form is a special type of dict mapping submitted form keys and values. The user will input their\n",
    "username and password.\n",
    "4. Validate that username and password are not empty.\n",
    "5. If validation succeeds, insert the new user data into the database.\n",
    "• db.execute takes a SQL query with ? placeholders for any user input, and a tuple of values to replace the\n",
    "placeholders with. The database library will take care of escaping the values so you are not vulnerable to\n",
    "a SQL injection attack.\n",
    "• For security, passwords should never be stored in the database directly.\n",
    "Instead,\n",
    "generate_password_hash() is used to securely hash the password, and that hash is stored. Since this\n",
    "query modifies data, db.commit() needs to be called afterwards to save the changes.\n",
    "• An sqlite3.IntegrityError will occur if the username already exists, which should be shown to the\n",
    "user as another validation error.\n",
    "6. After storing the user, they are redirected to the login page. url_for() generates the URL for the login view\n",
    "based on its name. This is preferable to writing the URL directly as it allows you to change the URL later without\n",
    "changing all code that links to it. redirect() generates a redirect response to the generated URL.\n",
    "7. If validation fails, the error is shown to the user. flash() stores messages that can be retrieved when rendering\n",
    "the template.\n",
    "8. When the user initially navigates to auth/register, or there was a validation error, an HTML page with the\n",
    "registration form should be shown. render_template() will render a template containing the HTML, which\n",
    "you’ll write in the next step of the tutorial."
   ]
  }
 ],
 "metadata": {
  "kernelspec": {
   "display_name": "env (3.13.5)",
   "language": "python",
   "name": "python3"
  },
  "language_info": {
   "codemirror_mode": {
    "name": "ipython",
    "version": 3
   },
   "file_extension": ".py",
   "mimetype": "text/x-python",
   "name": "python",
   "nbconvert_exporter": "python",
   "pygments_lexer": "ipython3",
   "version": "3.13.5"
  }
 },
 "nbformat": 4,
 "nbformat_minor": 5
}
