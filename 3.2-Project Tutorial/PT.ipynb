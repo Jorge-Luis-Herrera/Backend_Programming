{
 "cells": [
  {
   "cell_type": "markdown",
   "id": "34e69d90",
   "metadata": {},
   "source": [
    "# Project Tutorial"
   ]
  },
  {
   "cell_type": "markdown",
   "id": "84265393",
   "metadata": {},
   "source": [
    "**Create a project directory and enter it:**"
   ]
  },
  {
   "cell_type": "markdown",
   "id": "7a38406c",
   "metadata": {},
   "source": [
    "1. >$ mkdir flask-tutorial\n",
    "2. >cd flask-tutorial"
   ]
  },
  {
   "cell_type": "markdown",
   "id": "0956bea0",
   "metadata": {},
   "source": [
    "A Flask application can be as simple as a single file."
   ]
  },
  {
   "cell_type": "code",
   "execution_count": null,
   "id": "bf468336",
   "metadata": {},
   "outputs": [],
   "source": [
    "from flask import Flask\n",
    "\n",
    "app = Flask(__name__)\n",
    "\n",
    "@app.route('/')\n",
    "def hello():\n",
    "    return \"Hello World!\"\n"
   ]
  },
  {
   "cell_type": "markdown",
   "id": "59e4cf4d",
   "metadata": {},
   "source": [
    "However, as a project gets bigger, it becomes overwhelming to keep all the code in one file. Python projects use\n",
    "packages to organize code into multiple modules that can be imported where needed, and the tutorial will do this as\n",
    "well."
   ]
  },
  {
   "cell_type": "markdown",
   "id": "e3b1fb41",
   "metadata": {},
   "source": [
    "##### The project directory will contain:\n",
    "- flaskr/, a Python package containing your application code and files.\n",
    "- tests/, a directory containing test modules.\n",
    "- .venv/, a Python virtual environment where Flask and other dependencies are installed.\n",
    "- Installation files telling Python how to install your project.\n",
    "-   Version control config, such as git. You should make a habit of using some type of version control for all your\n",
    "projects, no matter the size.\n",
    "- Any other project files you might add in the future."
   ]
  }
 ],
 "metadata": {
  "kernelspec": {
   "display_name": "env (3.13.5)",
   "language": "python",
   "name": "python3"
  },
  "language_info": {
   "name": "python",
   "version": "3.13.5"
  }
 },
 "nbformat": 4,
 "nbformat_minor": 5
}
