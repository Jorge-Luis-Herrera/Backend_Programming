{
 "cells": [
  {
   "cell_type": "markdown",
   "id": "62a7945b",
   "metadata": {},
   "source": [
    "# HTML Escaping\n",
    "\n",
    "When returning HTML (the default response type in Flask), any user-provided values rendered in the output must be\n",
    "escaped to protect from injection attacks. HTML templates rendered with Jinja, introduced later, will do this automat-\n",
    "ically.\n",
    "escape(), shown here, can be used manually. It is omitted in most examples for brevity, but you should always be\n",
    "aware of how you’re using untrusted data."
   ]
  },
  {
   "cell_type": "code",
   "execution_count": null,
   "id": "e9c9f76d",
   "metadata": {
    "vscode": {
     "languageId": "plaintext"
    }
   },
   "outputs": [],
   "source": []
  }
 ],
 "metadata": {
  "language_info": {
   "name": "python"
  }
 },
 "nbformat": 4,
 "nbformat_minor": 5
}
