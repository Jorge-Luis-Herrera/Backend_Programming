{
 "cells": [
  {
   "cell_type": "markdown",
   "id": "967431b1",
   "metadata": {},
   "source": [
    "# Redirects and Errors"
   ]
  },
  {
   "cell_type": "markdown",
   "id": "a5500637",
   "metadata": {},
   "source": [
    "To redirect the user to another endpoint ,use the redirect() function ;to abort a request early with an error code ,user the abort() function"
   ]
  },
  {
   "cell_type": "code",
   "execution_count": null,
   "id": "8e31290e",
   "metadata": {},
   "outputs": [],
   "source": [
    "from flask import Flask,redirect,url_for\n",
    "\n",
    "app = Flask(__name__)\n",
    "\n",
    "@app.route('/')\n",
    "def index():\n",
    "    return redirect(url_for('login'))\n",
    "@app.route('/login')\n",
    "def login():\n",
    "    abort(401)\n",
    "    this_is_never_execute()"
   ]
  },
  {
   "cell_type": "markdown",
   "id": "4e83d463",
   "metadata": {},
   "source": [
    "This is a rather pointless example because a user will be redirected from the index to a page they cannot access (401 means access denied) but it shows how that works"
   ]
  },
  {
   "cell_type": "markdown",
   "id": "f9623f4d",
   "metadata": {},
   "source": [
    "By default a black and white error page is shown for each error code . If you want to customize the error page ,you can use the errorhandler() decorator"
   ]
  },
  {
   "cell_type": "code",
   "execution_count": null,
   "id": "07fdf742",
   "metadata": {},
   "outputs": [],
   "source": [
    "from flask import Flask,render_template\n",
    "\n",
    "app = Flask(__name__)\n",
    "\n",
    "@app.errorhandler(404)\n",
    "def page_not_found(error):\n",
    "    return render_template('page_not_found.html'),404"
   ]
  }
 ],
 "metadata": {
  "kernelspec": {
   "display_name": "env (3.13.5)",
   "language": "python",
   "name": "python3"
  },
  "language_info": {
   "codemirror_mode": {
    "name": "ipython",
    "version": 3
   },
   "file_extension": ".py",
   "mimetype": "text/x-python",
   "name": "python",
   "nbconvert_exporter": "python",
   "pygments_lexer": "ipython3",
   "version": "3.13.5"
  }
 },
 "nbformat": 4,
 "nbformat_minor": 5
}
