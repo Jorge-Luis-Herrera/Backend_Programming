{
 "cells": [
  {
   "cell_type": "markdown",
   "id": "8c761baf",
   "metadata": {},
   "source": [
    "# File Uploads"
   ]
  },
  {
   "cell_type": "markdown",
   "id": "92d9a715",
   "metadata": {},
   "source": [
    "You can handle uploaded files with Flask easily. Just make sure not to forget to set the enctype=\"multipart/form-data\" \n",
    "attribute on your HTML form, otherwise the browser will not transmit your files at all."
   ]
  },
  {
   "cell_type": "markdown",
   "id": "b431a66b",
   "metadata": {},
   "source": [
    "Uploaded files are stored in memory or at a temporary location on the filesystem. You can access those files by looking\n",
    "at the files attribute on the request object. Each uploaded file is stored in that dictionary. It behaves just like a standard\n",
    "Python file object, but it also has a save() method that allows you to store that file on the filesystem of the server.\n",
    "Here is a simple example showing how that works:"
   ]
  },
  {
   "cell_type": "code",
   "execution_count": 3,
   "id": "237b61ef",
   "metadata": {},
   "outputs": [],
   "source": [
    "from flask import Flask,request\n",
    "\n",
    "app = Flask(__name__)\n",
    "\n",
    "@app.route('/upload',methods=['POST','GET'])\n",
    "def upload_file():\n",
    "    if request.method == 'POST':\n",
    "        f = request.files['The_File']\n",
    "        f.save('/var/www/uploads/uploaded_file.txt')"
   ]
  },
  {
   "cell_type": "markdown",
   "id": "68277450",
   "metadata": {},
   "source": [
    "If you want to know how the file was named on the client before it was uploaded to your application, you can access the\n",
    "filename attribute. However please keep in mind that this value can be forged so never ever trust that value. If you\n",
    "want to use the filename of the client to store the file on the server, pass it through the secure_filename() function\n",
    "that Werkzeug provides for you:"
   ]
  },
  {
   "cell_type": "code",
   "execution_count": null,
   "id": "9e4ef706",
   "metadata": {},
   "outputs": [
    {
     "ename": "SyntaxError",
     "evalue": "invalid syntax. Perhaps you forgot a comma? (3792662482.py, line 8)",
     "output_type": "error",
     "traceback": [
      "  \u001b[36mCell\u001b[39m\u001b[36m \u001b[39m\u001b[32mIn[1]\u001b[39m\u001b[32m, line 8\u001b[39m\n\u001b[31m    \u001b[39m\u001b[31mfile.save(f\"/var/www/uploads/\"{secure_filename(file.filename)})\u001b[39m\n              ^\n\u001b[31mSyntaxError\u001b[39m\u001b[31m:\u001b[39m invalid syntax. Perhaps you forgot a comma?\n"
     ]
    }
   ],
   "source": [
    "from werkzeug.utils import secure_filename\n",
    "from flask import Flask,request\n",
    "\n",
    "app = Flask(__name__)\n",
    "\n",
    "@app.route('/uploads',methods=['POST','GET'])\n",
    "def upload_file():\n",
    "    if request.method == 'POST':\n",
    "        file = request.files['the_file']\n",
    "        file.save(f\"/var/www/uploads/\"{secure_filename(file.filename)})"
   ]
  }
 ],
 "metadata": {
  "kernelspec": {
   "display_name": "env (3.13.5)",
   "language": "python",
   "name": "python3"
  },
  "language_info": {
   "codemirror_mode": {
    "name": "ipython",
    "version": 3
   },
   "file_extension": ".py",
   "mimetype": "text/x-python",
   "name": "python",
   "nbconvert_exporter": "python",
   "pygments_lexer": "ipython3",
   "version": "3.13.5"
  }
 },
 "nbformat": 4,
 "nbformat_minor": 5
}
