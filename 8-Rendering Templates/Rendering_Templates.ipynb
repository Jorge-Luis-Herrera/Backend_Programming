{
 "cells": [
  {
   "cell_type": "markdown",
   "id": "ed84fd6d",
   "metadata": {},
   "source": [
    "# Rendering Templates"
   ]
  },
  {
   "cell_type": "markdown",
   "id": "473954af",
   "metadata": {},
   "source": [
    "Generating HTML from within Python is not fun ,and actually pretty cummbersome because you have to do the HTML escaping on your own to keep the application secure. Because of that Flask configures the Jinja2 template engine for you automatically."
   ]
  },
  {
   "cell_type": "markdown",
   "id": "d64cfce8",
   "metadata": {},
   "source": [
    "Templates can be use to generate any type of text file .For web applications ,you`ll primarily be generating HTML pages ,but you can also generate markdown ,plain text for emails ,and anything else."
   ]
  },
  {
   "cell_type": "markdown",
   "id": "87cbec72",
   "metadata": {},
   "source": [
    "For a reference to HTML, CSS, and other web APIs, use the MDN Web Docs."
   ]
  },
  {
   "cell_type": "markdown",
   "id": "ba833798",
   "metadata": {},
   "source": [
    "To render a template you can use the render_template() method. All you have to do is provide the name of the\n",
    "template and the variables you want to pass to the template engine as keyword arguments. Here’s a simple example of\n",
    "how to render a template:"
   ]
  },
  {
   "cell_type": "code",
   "execution_count": 2,
   "id": "feef0b51",
   "metadata": {},
   "outputs": [],
   "source": [
    "from flask import render_template\n",
    "@app.route('/hello/')\n",
    "@app.route('/hello/<name>')\n",
    "\n",
    "def hello(name=None):\n",
    "    return render_template('hello.html', name=name)"
   ]
  },
  {
   "cell_type": "markdown",
   "id": "4e56b837",
   "metadata": {},
   "source": [
    "Flask will look for templates in the templates folder. So if your application is a module, this folder is next to that\n",
    "module, if it’s a package it’s actually inside your package:"
   ]
  },
  {
   "cell_type": "markdown",
   "id": "707f14e7",
   "metadata": {},
   "source": [
    "**Case 1**: a module:\n",
    "#\n",
    "    /application.py\n",
    "    /templates\n",
    "    /hello.html"
   ]
  },
  {
   "cell_type": "markdown",
   "id": "fbf7ec35",
   "metadata": {},
   "source": [
    "**Case 2**: a package:\n",
    "#\n",
    "    /application\n",
    "        /__init__.py\n",
    "        /templates\n",
    "            /hello.html"
   ]
  },
  {
   "cell_type": "markdown",
   "id": "89a2e31a",
   "metadata": {},
   "source": [
    "For templates you can use the full power of Jinja2 templates. Head over to the official Jinja2 Template Documentation\n",
    "for more information.\n",
    "Here is an example template:"
   ]
  },
  {
   "cell_type": "markdown",
   "id": "e6ba3b5a",
   "metadata": {},
   "source": [
    "    <!doctype html>\n",
    "    <title>Hello from Flask</title>\n",
    "    {% if name %}\n",
    "    <h1>Hello {{ name }}!</h1>\n",
    "    {% else %}\n",
    "    <h1>Hello, World!</h1>\n",
    "    {% endif %}"
   ]
  }
 ],
 "metadata": {
  "kernelspec": {
   "display_name": "env (3.13.5)",
   "language": "python",
   "name": "python3"
  },
  "language_info": {
   "codemirror_mode": {
    "name": "ipython",
    "version": 3
   },
   "file_extension": ".py",
   "mimetype": "text/x-python",
   "name": "python",
   "nbconvert_exporter": "python",
   "pygments_lexer": "ipython3",
   "version": "3.13.5"
  }
 },
 "nbformat": 4,
 "nbformat_minor": 5
}
