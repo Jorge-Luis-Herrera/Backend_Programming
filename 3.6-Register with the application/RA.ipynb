{
 "cells": [
  {
   "cell_type": "markdown",
   "id": "c3d0482f",
   "metadata": {},
   "source": [
    "# Register with the Application"
   ]
  },
  {
   "cell_type": "markdown",
   "id": "6842fc60",
   "metadata": {},
   "source": [
    "The close_db and init_db_command functions need to be registered with the application instance ;otherwise ,they won't be used by the application .However ,since you're using a factory function ,that instance isn't available when writting the functions .Instead ,write a function that takes an application and does the registration ."
   ]
  },
  {
   "cell_type": "code",
   "execution_count": 1,
   "id": "6c856b35",
   "metadata": {},
   "outputs": [],
   "source": [
    "def init_app(app):\n",
    "    app.teardown_appcontext(close_db)\n",
    "    app.cli.add_command(init_db_command)"
   ]
  },
  {
   "cell_type": "markdown",
   "id": "e9a123b5",
   "metadata": {},
   "source": [
    "app.teardown_appcontext() tells Flask to call that function when cleaning up after returning the response."
   ]
  },
  {
   "cell_type": "markdown",
   "id": "8ef2ad79",
   "metadata": {},
   "source": [
    "app.cli.add_command() adds a new command that can be called with the flask command."
   ]
  },
  {
   "cell_type": "markdown",
   "id": "ea8f2426",
   "metadata": {},
   "source": [
    "**Import and call this function from the factory. Place the new code at the end of the factory function before returning the app.**"
   ]
  },
  {
   "cell_type": "code",
   "execution_count": null,
   "id": "5d44d697",
   "metadata": {},
   "outputs": [],
   "source": [
    "def create_app():\n",
    "    app = ...\n",
    "    #existing code omited\n",
    "\n",
    "    from . import db\n",
    "    db.init_app(app)\n",
    "\n",
    "    return app"
   ]
  }
 ],
 "metadata": {
  "kernelspec": {
   "display_name": "env (3.13.5)",
   "language": "python",
   "name": "python3"
  },
  "language_info": {
   "codemirror_mode": {
    "name": "ipython",
    "version": 3
   },
   "file_extension": ".py",
   "mimetype": "text/x-python",
   "name": "python",
   "nbconvert_exporter": "python",
   "pygments_lexer": "ipython3",
   "version": "3.13.5"
  }
 },
 "nbformat": 4,
 "nbformat_minor": 5
}
