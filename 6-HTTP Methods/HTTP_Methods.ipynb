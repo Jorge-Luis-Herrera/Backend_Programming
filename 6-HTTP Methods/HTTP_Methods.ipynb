{
 "cells": [
  {
   "cell_type": "markdown",
   "id": "135ebae0",
   "metadata": {},
   "source": [
    "# HTTP Methods"
   ]
  },
  {
   "cell_type": "markdown",
   "id": "48a65935",
   "metadata": {},
   "source": [
    "Web applications use different HTTP methods when accessing URLs. You should familiarize yourself with the HTTP\n",
    "methods as you work with Flask. By default, a route only answers to GET requests. You can use the methods argument\n",
    "of the route() decorator to handle different HTTP methods."
   ]
  },
  {
   "cell_type": "code",
   "execution_count": null,
   "id": "9d360a04",
   "metadata": {},
   "outputs": [],
   "source": [
    "from flask import Flask\n",
    "from markupsafe import escape\n",
    "\n",
    "app = Flask(__name__)\n",
    "\n",
    "@app.route('/login',methods=['GET', 'POST'])\n",
    "def login():\n",
    "    if request.method == 'POST':\n",
    "        return do_the_login()\n",
    "    else:\n",
    "        return show_the_login_form()\n",
    "        "
   ]
  },
  {
   "cell_type": "markdown",
   "id": "596c8a28",
   "metadata": {},
   "source": [
    "The example above keeps all methods for the route within one function ,which can be useful if each part uses some common data."
   ]
  },
  {
   "cell_type": "markdown",
   "id": "5de6da1e",
   "metadata": {},
   "source": [
    "You can also separate views for different methods into different functions. Flask provides a shortcut for decorating such\n",
    "routes with get(), post(), etc. for each common HTTP method."
   ]
  },
  {
   "cell_type": "code",
   "execution_count": null,
   "id": "b22dde63",
   "metadata": {},
   "outputs": [],
   "source": [
    "@app.get('/login')\n",
    "def login_get():\n",
    "    return show_the_login_form()\n",
    "\n",
    "@app.post('/login')\n",
    "def login_post():\n",
    "    return do_the_login()"
   ]
  }
 ],
 "metadata": {
  "kernelspec": {
   "display_name": "env (3.13.5)",
   "language": "python",
   "name": "python3"
  },
  "language_info": {
   "codemirror_mode": {
    "name": "ipython",
    "version": 3
   },
   "file_extension": ".py",
   "mimetype": "text/x-python",
   "name": "python",
   "nbconvert_exporter": "python",
   "pygments_lexer": "ipython3",
   "version": "3.13.5"
  }
 },
 "nbformat": 4,
 "nbformat_minor": 5
}
