{
 "cells": [
  {
   "cell_type": "markdown",
   "id": "3d9efa5a",
   "metadata": {},
   "source": [
    "# Cookies"
   ]
  },
  {
   "cell_type": "markdown",
   "id": "9b7b38bb",
   "metadata": {},
   "source": [
    "To access cookies you can use the cookies atribute and the set_cookie method of response objects. The cookies atribute of request objects is a dicctionary with all the cookies the client transmits.If you want to use sessions ,don`t use the cookies directly but instead use the Sessions in Flask that add some security on top of cookie for you"
   ]
  },
  {
   "cell_type": "markdown",
   "id": "b27389fc",
   "metadata": {},
   "source": [
    "#### Reading cookies"
   ]
  },
  {
   "cell_type": "code",
   "execution_count": 2,
   "id": "d932b13c",
   "metadata": {},
   "outputs": [],
   "source": [
    "from flask import Flask ,request\n",
    "\n",
    "app = Flask(__name__)\n",
    "\n",
    "@app.route('/')\n",
    "def index():\n",
    "    username = request.cookies.get('username')\n",
    "    #use cookies.get(key) instead of cookies[key] to not get a KeyError if the cookie is missing"
   ]
  },
  {
   "cell_type": "markdown",
   "id": "a0ba5755",
   "metadata": {},
   "source": [
    "#### Storing cookies "
   ]
  },
  {
   "cell_type": "code",
   "execution_count": null,
   "id": "a33470f9",
   "metadata": {},
   "outputs": [
    {
     "ename": "_IncompleteInputError",
     "evalue": "incomplete input (2889562584.py, line 6)",
     "output_type": "error",
     "traceback": [
      "  \u001b[36mCell\u001b[39m\u001b[36m \u001b[39m\u001b[32mIn[4]\u001b[39m\u001b[32m, line 6\u001b[39m\n\u001b[31m    \u001b[39m\u001b[31mdef index():\u001b[39m\n                ^\n\u001b[31m_IncompleteInputError\u001b[39m\u001b[31m:\u001b[39m incomplete input\n"
     ]
    }
   ],
   "source": [
    "from flask import make_response,Flask,render_template\n",
    "\n",
    "app = Flask(__name__)\n",
    "\n",
    "@app.route('/')\n",
    "def index():\n",
    "    resp = make_response(render_template(...))\n",
    "    resp.set_cookie('usernmae','the_username')\n",
    "    return resp"
   ]
  }
 ],
 "metadata": {
  "kernelspec": {
   "display_name": "env (3.13.5)",
   "language": "python",
   "name": "python3"
  },
  "language_info": {
   "codemirror_mode": {
    "name": "ipython",
    "version": 3
   },
   "file_extension": ".py",
   "mimetype": "text/x-python",
   "name": "python",
   "nbconvert_exporter": "python",
   "pygments_lexer": "ipython3",
   "version": "3.13.5"
  }
 },
 "nbformat": 4,
 "nbformat_minor": 5
}
