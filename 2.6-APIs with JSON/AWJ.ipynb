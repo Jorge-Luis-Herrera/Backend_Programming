{
 "cells": [
  {
   "cell_type": "markdown",
   "id": "2d3464dd",
   "metadata": {},
   "source": [
    "# APIs with JSON"
   ]
  },
  {
   "cell_type": "markdown",
   "id": "4d72301b",
   "metadata": {},
   "source": [
    "A common response format when writting an API is JSON .It`s easy to get started writing such an API with FLASK .If you return a dict or list from a view ,it will be converted to a JSON response."
   ]
  },
  {
   "cell_type": "code",
   "execution_count": 1,
   "id": "27b2722b",
   "metadata": {},
   "outputs": [],
   "source": [
    "from flask import Flask\n",
    "\n",
    "app = Flask(__name__)\n",
    "\n",
    "@app.route(\"/me\")\n",
    "def me_api():\n",
    "    user = get_current_user()\n",
    "    return {\n",
    "        \"username\" : user.username,\n",
    "        \"theme\" : user.theme,\n",
    "        \"image\" : url_for(\"user_image\",filename = user.image),\n",
    "    }\n",
    "\n",
    "@app.route(\"/user\")\n",
    "def users_api():\n",
    "    users = get_all_users()\n",
    "    return [user.to_json() for user in users]\n"
   ]
  }
 ],
 "metadata": {
  "kernelspec": {
   "display_name": "env (3.13.5)",
   "language": "python",
   "name": "python3"
  },
  "language_info": {
   "codemirror_mode": {
    "name": "ipython",
    "version": 3
   },
   "file_extension": ".py",
   "mimetype": "text/x-python",
   "name": "python",
   "nbconvert_exporter": "python",
   "pygments_lexer": "ipython3",
   "version": "3.13.5"
  }
 },
 "nbformat": 4,
 "nbformat_minor": 5
}
