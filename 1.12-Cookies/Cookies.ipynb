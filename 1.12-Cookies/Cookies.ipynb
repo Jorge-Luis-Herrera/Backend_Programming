{
 "cells": [
  {
   "cell_type": "markdown",
   "id": "3d9efa5a",
   "metadata": {},
   "source": [
    "# Cookies"
   ]
  },
  {
   "cell_type": "markdown",
   "id": "9b7b38bb",
   "metadata": {},
   "source": [
    "To access cookies you can use the cookies atribute and the set_cookie method of response objects. The cookies atribute of request objects is a dicctionary with all the cookies the client transmits.If you want to use sessions ,don`t use the cookies directly but instead use the Sessions in Flask that add some security on top of cookie for you"
   ]
  },
  {
   "cell_type": "markdown",
   "id": "b27389fc",
   "metadata": {},
   "source": [
    "#### Reading cookies"
   ]
  },
  {
   "cell_type": "code",
   "execution_count": 2,
   "id": "d932b13c",
   "metadata": {},
   "outputs": [],
   "source": [
    "from flask import Flask ,request\n",
    "\n",
    "app = Flask(__name__)\n",
    "\n",
    "@app.route('/')\n",
    "def index():\n",
    "    username = request.cookies.get('username')\n",
    "    #use cookies.get(key) instead of cookies[key] to not get a KeyError if the cookie is missing"
   ]
  },
  {
   "cell_type": "markdown",
   "id": "a0ba5755",
   "metadata": {},
   "source": [
    "#### Storing cookies "
   ]
  },
  {
   "cell_type": "code",
   "execution_count": 5,
   "id": "a33470f9",
   "metadata": {},
   "outputs": [],
   "source": [
    "from flask import make_response,Flask,render_template\n",
    "\n",
    "app = Flask(__name__)\n",
    "\n",
    "@app.route('/')\n",
    "def index():\n",
    "    resp = make_response(render_template(...))\n",
    "    resp.set_cookie('usernmae','the_username')\n",
    "    return resp"
   ]
  },
  {
   "cell_type": "markdown",
   "id": "cbe9fbe2",
   "metadata": {},
   "source": [
    "Note that cookies are set on response objects . Since your normally just return strings from the view functions Flask will convert them into response objects for you . If you explicity want to do that you can use the make_response() function and then modify it ."
   ]
  },
  {
   "cell_type": "markdown",
   "id": "9d1ca504",
   "metadata": {},
   "source": [
    "Sometimes you might want to set a cookie at a point where the response object does not exist yet . This is possible by utilizing the Deferred Request Callbacks pattern"
   ]
  }
 ],
 "metadata": {
  "kernelspec": {
   "display_name": "env (3.13.5)",
   "language": "python",
   "name": "python3"
  },
  "language_info": {
   "codemirror_mode": {
    "name": "ipython",
    "version": 3
   },
   "file_extension": ".py",
   "mimetype": "text/x-python",
   "name": "python",
   "nbconvert_exporter": "python",
   "pygments_lexer": "ipython3",
   "version": "3.13.5"
  }
 },
 "nbformat": 4,
 "nbformat_minor": 5
}
