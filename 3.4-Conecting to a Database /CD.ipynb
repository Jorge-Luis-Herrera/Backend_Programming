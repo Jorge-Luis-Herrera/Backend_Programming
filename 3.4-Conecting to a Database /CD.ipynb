{
 "cells": [
  {
   "cell_type": "markdown",
   "id": "29a52123",
   "metadata": {},
   "source": [
    "# Conecting to MySql"
   ]
  },
  {
   "cell_type": "markdown",
   "id": "63eddcca",
   "metadata": {},
   "source": [
    "The first thing to do when working whit MySql database (and most other Python database libraries) is to create a connection to it . Any queries and operations are performed using the connection ,which is closed after the work is finished."
   ]
  },
  {
   "cell_type": "markdown",
   "id": "ff29652f",
   "metadata": {},
   "source": [
    "In web applications this connection is typically tied to the request.It is created at some point when handling a request .And closed before the response is sent ."
   ]
  },
  {
   "cell_type": "code",
   "execution_count": 4,
   "id": "40ffe7ed",
   "metadata": {},
   "outputs": [],
   "source": [
    "import mysql.connector\n",
    "from flask import current_app,g\n",
    "\n",
    "def get_db():\n",
    "    #Connect the database if not exist in 'g'\n",
    "    if 'db' not in g:\n",
    "        g.db = mysql.connector.connect(\n",
    "            host = current_app.config['DATABASE_HOST'],\n",
    "            user = current_app.config['DATABASE_USER'],\n",
    "            password = current_app.config['DATABASE_PASSWORD'],\n",
    "            database = current_app.config['DATABASE_DB']\n",
    "        )\n",
    "        #You can config cursor to return dicctionaries if you want it\n",
    "        #g.db.cursor(dicctionary=True)\n",
    "        return g.db\n",
    "\n",
    "def close_db():\n",
    "    #Close the conection to database\n",
    "    db = g.pop('db',None)\n",
    "    if db is not None and db.is_connected():\n",
    "        db.close() "
   ]
  },
  {
   "cell_type": "markdown",
   "id": "d1958358",
   "metadata": {},
   "source": [
    "g is an especial object that is unique for each request .It is used to store data that might be accessed by multiple functions during the request .The connection is stored and reused instead of creating a new connection if get_db is called a second time the same request ."
   ]
  },
  {
   "cell_type": "markdown",
   "id": "f418cd19",
   "metadata": {},
   "source": []
  }
 ],
 "metadata": {
  "kernelspec": {
   "display_name": "env (3.13.5)",
   "language": "python",
   "name": "python3"
  },
  "language_info": {
   "codemirror_mode": {
    "name": "ipython",
    "version": 3
   },
   "file_extension": ".py",
   "mimetype": "text/x-python",
   "name": "python",
   "nbconvert_exporter": "python",
   "pygments_lexer": "ipython3",
   "version": "3.13.5"
  }
 },
 "nbformat": 4,
 "nbformat_minor": 5
}
