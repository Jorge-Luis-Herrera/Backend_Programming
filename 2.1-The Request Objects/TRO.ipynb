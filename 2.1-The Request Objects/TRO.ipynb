{
 "cells": [
  {
   "cell_type": "markdown",
   "id": "0649e8e6",
   "metadata": {},
   "source": [
    "# The Request Objects"
   ]
  },
  {
   "cell_type": "markdown",
   "id": "ca7fa1c4",
   "metadata": {},
   "source": [
    "**First import flask**"
   ]
  },
  {
   "cell_type": "code",
   "execution_count": null,
   "id": "cfb00550",
   "metadata": {},
   "outputs": [],
   "source": [
    "from flask import Flask,request,render_template"
   ]
  },
  {
   "cell_type": "markdown",
   "id": "3a2a07e6",
   "metadata": {},
   "source": [
    "The current request method is available by using the method attribute . To access form data (data transmitted in a POST or PUT request) you can use the form attribute .Here is a full example of the two attributes mentioned above"
   ]
  },
  {
   "cell_type": "code",
   "execution_count": null,
   "id": "4cf03309",
   "metadata": {},
   "outputs": [],
   "source": [
    "app= Flask(__name__)\n",
    "\n",
    "app.route('/login',methods=['POST','GET'])\n",
    "def login():\n",
    "    error = None\n",
    "    if request.method == 'POST':\n",
    "        if valid_login(request.form['username'],request.form['password']):\n",
    "            return log_the_user_in(request.form['username'])\n",
    "        else:\n",
    "            error = 'Invalid username/password'\n",
    "    # the code below is executed if the request method\n",
    "    # was GET or the credentials were invalid\n",
    "    return render_template('login.html',error = error)"
   ]
  },
  {
   "cell_type": "markdown",
   "id": "0db2c7d8",
   "metadata": {},
   "source": [
    "What happens if the key does not exist in the form attribute? In that case a special KeyError is raised. You can catch\n",
    "it like a standard KeyError but if you don’t do that, a HTTP 400 Bad Request error page is shown instead. So for many\n",
    "situations you don’t have to deal with that problem."
   ]
  },
  {
   "cell_type": "markdown",
   "id": "9c33f4a3",
   "metadata": {},
   "source": [
    "##### To access parameters submitted in the URL (?key=value) you can use the args attribute:\n",
    ">searchword = request.args.get('key', '')"
   ]
  },
  {
   "cell_type": "markdown",
   "id": "f27c173d",
   "metadata": {},
   "source": [
    "#### I recommend accessing URL parameters with get or by catching the KeyError because users might change the URL and presenting them a 400 bad request page in that case is not user friendly."
   ]
  }
 ],
 "metadata": {
  "kernelspec": {
   "display_name": "env (3.13.5)",
   "language": "python",
   "name": "python3"
  },
  "language_info": {
   "codemirror_mode": {
    "name": "ipython",
    "version": 3
   },
   "file_extension": ".py",
   "mimetype": "text/x-python",
   "name": "python",
   "nbconvert_exporter": "python",
   "pygments_lexer": "ipython3",
   "version": "3.13.5"
  }
 },
 "nbformat": 4,
 "nbformat_minor": 5
}
