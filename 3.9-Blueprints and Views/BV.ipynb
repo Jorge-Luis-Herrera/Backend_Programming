{
 "cells": [
  {
   "cell_type": "markdown",
   "id": "1312b35e",
   "metadata": {},
   "source": [
    "# Blueprints and Views"
   ]
  },
  {
   "cell_type": "markdown",
   "id": "c6e6cef5",
   "metadata": {},
   "source": [
    "A view function in your code is the code you write to respond  to requests to your application . Flask uses patterns to match the incoming request URL to the view that should handle it .The view returns data that Flask turns into an outgoing response .Flask can also go the other direction and generate a URL to a view based on its name and arguments ."
   ]
  },
  {
   "cell_type": "markdown",
   "id": "5730287d",
   "metadata": {},
   "source": [
    "## Create a blueprint"
   ]
  },
  {
   "cell_type": "markdown",
   "id": "ca592ed1",
   "metadata": {},
   "source": [
    "A Blueprint is a way to organizate a group of related views and other code .Rather than registering views and other code directly with an application ,they are registered with a blueprint .Then the blueprint is registered with the application when it is available in the fatory function."
   ]
  },
  {
   "cell_type": "markdown",
   "id": "94c04e94",
   "metadata": {},
   "source": [
    "Flaskr will have two blueprints ,one for the authentication functions and one for the blog posts functions .The code for each blueprint will go in a separated module Since the blog needs to know about authentication ,you`ll write the authentication one firts . "
   ]
  },
  {
   "cell_type": "code",
   "execution_count": 1,
   "id": "e95b5416",
   "metadata": {},
   "outputs": [
    {
     "ename": "ModuleNotFoundError",
     "evalue": "No module named 'flaskr'",
     "output_type": "error",
     "traceback": [
      "\u001b[31m---------------------------------------------------------------------------\u001b[39m",
      "\u001b[31mModuleNotFoundError\u001b[39m                       Traceback (most recent call last)",
      "\u001b[36mCell\u001b[39m\u001b[36m \u001b[39m\u001b[32mIn[1]\u001b[39m\u001b[32m, line 7\u001b[39m\n\u001b[32m      2\u001b[39m \u001b[38;5;28;01mfrom\u001b[39;00m\u001b[38;5;250m \u001b[39m\u001b[34;01mflask\u001b[39;00m\u001b[38;5;250m \u001b[39m\u001b[38;5;28;01mimport\u001b[39;00m (\n\u001b[32m      3\u001b[39m     Blueprint,flash,g,redirect,render_template,request,session,url_for\n\u001b[32m      4\u001b[39m )\n\u001b[32m      5\u001b[39m \u001b[38;5;28;01mfrom\u001b[39;00m\u001b[38;5;250m \u001b[39m\u001b[34;01mwerkzeug\u001b[39;00m\u001b[34;01m.\u001b[39;00m\u001b[34;01msecurity\u001b[39;00m\u001b[38;5;250m \u001b[39m\u001b[38;5;28;01mimport\u001b[39;00m check_password_hash,generate_password_hash\n\u001b[32m----> \u001b[39m\u001b[32m7\u001b[39m \u001b[38;5;28;01mfrom\u001b[39;00m\u001b[38;5;250m \u001b[39m\u001b[34;01mflaskr\u001b[39;00m\u001b[38;5;250m \u001b[39m\u001b[38;5;28;01mimport\u001b[39;00m get_db\n\u001b[32m      9\u001b[39m bp = Blueprint(\u001b[33m'\u001b[39m\u001b[33mauth\u001b[39m\u001b[33m'\u001b[39m,\u001b[34m__name__\u001b[39m,url_prefix=\u001b[33m'\u001b[39m\u001b[33m/auth\u001b[39m\u001b[33m'\u001b[39m)      \n",
      "\u001b[31mModuleNotFoundError\u001b[39m: No module named 'flaskr'"
     ]
    }
   ],
   "source": [
    "import functools\n",
    "from flask import (\n",
    "    Blueprint,flash,g,redirect,render_template,request,session,url_for\n",
    ")\n",
    "from werkzeug.security import check_password_hash,generate_password_hash\n",
    "\n",
    "from flaskr import get_db\n",
    "\n",
    "bp = Blueprint('auth',__name__,url_prefix='/auth')      "
   ]
  },
  {
   "cell_type": "markdown",
   "id": "cea468fd",
   "metadata": {},
   "source": [
    "This creates a Blueprint named 'auth'. Like the application object, the blueprint needs to know where it’s defined,\n",
    "so __name__ is passed as the second argument. The url_prefix will be prepended to all the URLs associated with\n",
    "the blueprint."
   ]
  },
  {
   "cell_type": "markdown",
   "id": "4c24a38d",
   "metadata": {},
   "source": [
    "Import and register the blueprint from the factory using app.register_blueprint(). Place the new code at the end\n",
    "of the factory function before returning the app."
   ]
  },
  {
   "cell_type": "code",
   "execution_count": null,
   "id": "b53fef8b",
   "metadata": {},
   "outputs": [],
   "source": [
    "def create_app():\n",
    "    app = ...\n",
    "# existing code omitted\n",
    "    from . import auth\n",
    "    app.register_blueprint(auth.bp)\n",
    "    return app"
   ]
  },
  {
   "cell_type": "markdown",
   "id": "8078be54",
   "metadata": {},
   "source": [
    "The authentication blueprint will have views to register new users and to log in and log out."
   ]
  }
 ],
 "metadata": {
  "kernelspec": {
   "display_name": "env (3.13.5)",
   "language": "python",
   "name": "python3"
  },
  "language_info": {
   "codemirror_mode": {
    "name": "ipython",
    "version": 3
   },
   "file_extension": ".py",
   "mimetype": "text/x-python",
   "name": "python",
   "nbconvert_exporter": "python",
   "pygments_lexer": "ipython3",
   "version": "3.13.5"
  }
 },
 "nbformat": 4,
 "nbformat_minor": 5
}
