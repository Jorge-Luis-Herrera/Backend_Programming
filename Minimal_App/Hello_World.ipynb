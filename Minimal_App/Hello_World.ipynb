{
 "cells": [
  {
   "cell_type": "markdown",
   "id": "a46218c8",
   "metadata": {},
   "source": [
    "# Hello World Explained"
   ]
  },
  {
   "cell_type": "code",
   "execution_count": 20,
   "id": "5f1c18b9",
   "metadata": {},
   "outputs": [],
   "source": [
    "from flask import Flask\n",
    "\n",
    "app=Flask(__name__)\n",
    "\n",
    "@app.route(\"/\")\n",
    "\n",
    "def Hello_World():\n",
    "    return \"<p>hello world</p>\""
   ]
  },
  {
   "cell_type": "markdown",
   "id": "40bb3298",
   "metadata": {},
   "source": [
    "**First import the Flask class . An instance of this class will be our WSGI application**"
   ]
  },
  {
   "cell_type": "code",
   "execution_count": 21,
   "id": "6661d3cb",
   "metadata": {},
   "outputs": [],
   "source": [
    "from flask import Flask"
   ]
  },
  {
   "cell_type": "markdown",
   "id": "4451ad70",
   "metadata": {},
   "source": [
    "**Next we create an instance of this class**"
   ]
  },
  {
   "cell_type": "code",
   "execution_count": 22,
   "id": "14fdffb9",
   "metadata": {},
   "outputs": [],
   "source": [
    "app=Flask(__name__)\n",
    "#The firts argument is the name of the aplication`s module or package.\n",
    "#name is a convenient shorcut for this that is appropiate for most cases.\n",
    "#This is needed so that Flask knows where to look for resources such as templates and static files"
   ]
  },
  {
   "cell_type": "markdown",
   "id": "cf022f0f",
   "metadata": {},
   "source": [
    "**Creating a function to say hello world**"
   ]
  },
  {
   "cell_type": "code",
   "execution_count": 23,
   "id": "09f9a46f",
   "metadata": {},
   "outputs": [],
   "source": [
    "@app.route(\"/\")\n",
    "#We then use the route() decorator to tell Flask what URL should trigger our function.\n",
    "\n",
    "def hello_world():\n",
    "    return \"<p>Hello, World!</p>\"\n",
    "#The function returns the message we want to display in the user’s browser. The default content type is HTML,so HTML in the string will be rendered by the browser."
   ]
  }
 ],
 "metadata": {
  "kernelspec": {
   "display_name": "env (3.13.5)",
   "language": "python",
   "name": "python3"
  },
  "language_info": {
   "codemirror_mode": {
    "name": "ipython",
    "version": 3
   },
   "file_extension": ".py",
   "mimetype": "text/x-python",
   "name": "python",
   "nbconvert_exporter": "python",
   "pygments_lexer": "ipython3",
   "version": "3.13.5"
  }
 },
 "nbformat": 4,
 "nbformat_minor": 5
}
