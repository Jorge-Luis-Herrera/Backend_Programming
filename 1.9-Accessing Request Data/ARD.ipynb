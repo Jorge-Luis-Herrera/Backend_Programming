{
 "cells": [
  {
   "cell_type": "markdown",
   "id": "53c35d73",
   "metadata": {},
   "source": [
    "# Accessing Request Data"
   ]
  },
  {
   "cell_type": "markdown",
   "id": "7f6823a0",
   "metadata": {},
   "source": [
    "For web applications it`s crucial to react to the data a client sends to the server . In Flask this information is provided by the global request object .If you have some experience with Python you might be wondering how that object can be global and how Flask manages to still be threadsafe .The answer is context locals :"
   ]
  },
  {
   "cell_type": "code",
   "execution_count": 1,
   "id": "a73462d8",
   "metadata": {},
   "outputs": [],
   "source": [
    "from flask import Flask,request\n",
    "\n",
    "app = Flask(__name__)\n",
    "\n",
    "with app.test_request_context('/hello',method='POST'):\n",
    "    # now you can do something with the request until the\n",
    "    # end of the with block, such as basic assertions:\n",
    "    assert request.path == '/hello'\n",
    "    assert request.method == 'POST'"
   ]
  },
  {
   "cell_type": "markdown",
   "id": "a8878f3c",
   "metadata": {},
   "source": [
    "**Insider Information**\n",
    "\n",
    ">If you want to understand how that works and how you can implement tests with context locals, read this section,\n",
    ">otherwise just skip it."
   ]
  },
  {
   "cell_type": "markdown",
   "id": "967facb5",
   "metadata": {},
   "source": [
    "Certain objects in Flask are global objects, but not of the usual kind. These objects are actually proxies to objects that\n",
    "are local to a specific context. What a mouthful. But that is actually quite easy to understand."
   ]
  },
  {
   "cell_type": "markdown",
   "id": "32e72a5e",
   "metadata": {},
   "source": [
    "Imagine the context being the handling thread. A request comes in and the web server decides to spawn a new thread\n",
    "(or something else, the underlying object is capable of dealing with concurrency systems other than threads). When\n",
    "Flask starts its internal request handling it figures out that the current thread is the active context and binds the current\n",
    "application and the WSGI environments to that context (thread). It does that in an intelligent way so that one application\n",
    "can invoke another application without breaking."
   ]
  },
  {
   "cell_type": "markdown",
   "id": "51b51997",
   "metadata": {},
   "source": [
    "So what does this mean to you? Basically you can completely ignore that this is the case unless you are doing something\n",
    "like unit testing. You will notice that code which depends on a request object will suddenly break because there is no\n",
    "request object. The solution is creating a request object yourself and binding it to the context. The easiest solution for\n",
    "unit testing is to use the test_request_context() context manager. In combination with the with statement it will\n",
    "bind a test request so that you can interact with it. Here is an example:"
   ]
  },
  {
   "cell_type": "markdown",
   "id": "0b91761a",
   "metadata": {},
   "source": [
    "#### The other possibility is passing a whole WSGI environment to the request_context() method:"
   ]
  },
  {
   "cell_type": "code",
   "execution_count": null,
   "id": "d9a272d0",
   "metadata": {},
   "outputs": [],
   "source": [
    "from flask import Flask\n",
    "\n",
    "app= Flask(__name__)\n",
    "\n",
    "with app.test_request_context():\n",
    "    assert request.method == 'POST'"
   ]
  }
 ],
 "metadata": {
  "kernelspec": {
   "display_name": "env (3.13.5)",
   "language": "python",
   "name": "python3"
  },
  "language_info": {
   "codemirror_mode": {
    "name": "ipython",
    "version": 3
   },
   "file_extension": ".py",
   "mimetype": "text/x-python",
   "name": "python",
   "nbconvert_exporter": "python",
   "pygments_lexer": "ipython3",
   "version": "3.13.5"
  }
 },
 "nbformat": 4,
 "nbformat_minor": 5
}
