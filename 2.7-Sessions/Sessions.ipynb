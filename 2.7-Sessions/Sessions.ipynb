{
 "cells": [
  {
   "cell_type": "markdown",
   "id": "abacd384",
   "metadata": {},
   "source": [
    "# Sessions"
   ]
  },
  {
   "cell_type": "markdown",
   "id": "af030558",
   "metadata": {},
   "source": [
    "In addition to the request object there is also a second object called session which allows you to store information\n",
    "specific to a user from one request to the next. This is implemented on top of cookies for you and signs the cookies\n",
    "cryptographically. What this means is that the user could look at the contents of your cookie but not modify it, unless\n",
    "they know the secret key used for signing."
   ]
  },
  {
   "cell_type": "markdown",
   "id": "7d614053",
   "metadata": {},
   "source": [
    "#### In order to use sessions you have to set a secret key. Here is how sessions work"
   ]
  },
  {
   "cell_type": "code",
   "execution_count": null,
   "id": "edb72275",
   "metadata": {},
   "outputs": [],
   "source": [
    "from flask import session,Flask,request,redirect, url_for\n",
    "from markupsafe import escape\n",
    "#Set te secret key to some random bytes.\n",
    "\n",
    "app = Flask(__name__)\n",
    "\n",
    "app.secret_key = b'candelita'\n",
    "\n",
    "@app.route('/')\n",
    "def index():\n",
    "    if 'username' in session:\n",
    "        return f'Logged in as {session[\"username\"]}'\n",
    "    return 'You are not logged in'\n",
    "\n",
    "@app.route('/login',methods=['POST','GET'])\n",
    "def login():\n",
    "    if request.method == 'POST':\n",
    "        session['username'] = request.form['username']\n",
    "        return redirect(url_for('index'))\n",
    "    return '''\n",
    "        <form method=\"post\">\n",
    "            <p><input type=text name=username>\n",
    "            <p><input type=submit value=Login>\n",
    "        </form>\n",
    "    '''\n",
    "\n",
    "@app.route('/logout')\n",
    "def logout():\n",
    "    # remove the username from the session if it`s there\n",
    "    session.pop('username',None)\n",
    "    return redirect(url_for('index'))\n"
   ]
  }
 ],
 "metadata": {
  "kernelspec": {
   "display_name": "env (3.13.5)",
   "language": "python",
   "name": "python3"
  },
  "language_info": {
   "codemirror_mode": {
    "name": "ipython",
    "version": 3
   },
   "file_extension": ".py",
   "mimetype": "text/x-python",
   "name": "python",
   "nbconvert_exporter": "python",
   "pygments_lexer": "ipython3",
   "version": "3.13.5"
  }
 },
 "nbformat": 4,
 "nbformat_minor": 5
}
