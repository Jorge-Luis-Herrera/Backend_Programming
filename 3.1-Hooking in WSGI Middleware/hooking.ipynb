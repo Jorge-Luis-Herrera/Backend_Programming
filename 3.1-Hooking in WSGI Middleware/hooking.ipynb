{
 "cells": [
  {
   "cell_type": "markdown",
   "id": "8d44b5f3",
   "metadata": {},
   "source": [
    "# Hooking"
   ]
  },
  {
   "cell_type": "markdown",
   "id": "6162b74c",
   "metadata": {},
   "source": [
    "To add WSGI middleware to your Flask application ,wrap the aplication's wsgi_app attribute. For example ,to apply Werkzeug's ProxyFix middleware for running behind Nginx:"
   ]
  },
  {
   "cell_type": "code",
   "execution_count": null,
   "id": "ee3ea5f8",
   "metadata": {},
   "outputs": [],
   "source": [
    "from werkzeug.middleware.proxy_fix import ProxyFix\n",
    "from flask import Flask\n",
    "\n",
    "app = Flask(__name__)\n",
    "\n",
    "app.wsgi_app = ProxyFix(app.wsgi_app)"
   ]
  }
 ],
 "metadata": {
  "kernelspec": {
   "display_name": "env (3.13.5)",
   "language": "python",
   "name": "python3"
  },
  "language_info": {
   "codemirror_mode": {
    "name": "ipython",
    "version": 3
   },
   "file_extension": ".py",
   "mimetype": "text/x-python",
   "name": "python",
   "nbconvert_exporter": "python",
   "pygments_lexer": "ipython3",
   "version": "3.13.5"
  }
 },
 "nbformat": 4,
 "nbformat_minor": 5
}
