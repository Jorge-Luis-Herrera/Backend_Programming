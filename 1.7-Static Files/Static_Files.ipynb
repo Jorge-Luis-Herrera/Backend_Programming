{
 "cells": [
  {
   "cell_type": "markdown",
   "id": "935c0bb2",
   "metadata": {},
   "source": [
    "# Static_Files\n",
    "\n",
    "Dynamic web applications also need static files. That’s usually where the CSS and JavaScript files are coming from.\n",
    "Ideally your web server is configured to serve them for you, but during development Flask can do that as well. Just create\n",
    "a folder called static in your package or next to your module and it will be available at /static on the application.\n",
    "To generate URLs for static files, use the special 'static' endpoint name:\n",
    "\n",
    "> url_for('static', filename='style.css')\n",
    "\n",
    "The file has to be stored on the filesystem as static/style.css."
   ]
  }
 ],
 "metadata": {
  "language_info": {
   "name": "python"
  }
 },
 "nbformat": 4,
 "nbformat_minor": 5
}
