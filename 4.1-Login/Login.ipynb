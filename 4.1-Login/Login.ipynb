{
 "cells": [
  {
   "cell_type": "markdown",
   "id": "e5f70dc1",
   "metadata": {},
   "source": [
    "# Login"
   ]
  },
  {
   "cell_type": "markdown",
   "id": "fda24c58",
   "metadata": {},
   "source": [
    "**This view follows the same pattern as the register view above**"
   ]
  },
  {
   "cell_type": "code",
   "execution_count": null,
   "id": "ae3c6284",
   "metadata": {},
   "outputs": [
    {
     "ename": "_IncompleteInputError",
     "evalue": "incomplete input (1983866562.py, line 5)",
     "output_type": "error",
     "traceback": [
      "  \u001b[36mCell\u001b[39m\u001b[36m \u001b[39m\u001b[32mIn[1]\u001b[39m\u001b[32m, line 5\u001b[39m\n\u001b[31m    \u001b[39m\u001b[31m@bp.route(\"/login\",methods=('GET'))\u001b[39m\n                                       ^\n\u001b[31m_IncompleteInputError\u001b[39m\u001b[31m:\u001b[39m incomplete input\n"
     ]
    }
   ],
   "source": [
    "from flask import Flask,request,redirect,session,flash,render_template\n",
    "\n",
    "bp = Flask(__name__)\n",
    "\n",
    "@bp.route(\"/login\",methods=('GET','POST'))\n",
    "def login():\n",
    "    if request.method == 'POST':\n",
    "        username = request.form['username']\n",
    "        password = request.form['password']\n",
    "        db = get_db()\n",
    "        error = None\n",
    "        user = db.execute(\n",
    "            'SELECT * from user WHERE username = ?',(username,)\n",
    "        ).fetchone\n",
    "\n",
    "        if user is None:\n",
    "            error = 'Incorrect username.'\n",
    "        elif not check_password_hash(user['password'],password):\n",
    "            error = 'Incorrect password'\n",
    "\n",
    "        if error is None:\n",
    "            session.clear()\n",
    "            session['user_id'] = user['id']\n",
    "            return redirect(url_for('index'))\n",
    "        flash(error)\n",
    "    return render_template('auth/login.html')"
   ]
  }
 ],
 "metadata": {
  "kernelspec": {
   "display_name": "env (3.13.5)",
   "language": "python",
   "name": "python3"
  },
  "language_info": {
   "codemirror_mode": {
    "name": "ipython",
    "version": 3
   },
   "file_extension": ".py",
   "mimetype": "text/x-python",
   "name": "python",
   "nbconvert_exporter": "python",
   "pygments_lexer": "ipython3",
   "version": "3.13.5"
  }
 },
 "nbformat": 4,
 "nbformat_minor": 5
}
