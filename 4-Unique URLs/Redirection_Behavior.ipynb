{
 "cells": [
  {
   "cell_type": "markdown",
   "id": "889b255b",
   "metadata": {},
   "source": [
    "**The following two rules differ in their use of a trailing slash**"
   ]
  },
  {
   "cell_type": "code",
   "execution_count": 1,
   "id": "9d4417a0",
   "metadata": {},
   "outputs": [],
   "source": [
    "from flask import Flask\n",
    "from markupsafe import escape\n",
    "\n",
    "app = Flask(__name__)\n",
    "\n",
    "@app.route('/projects/')\n",
    "def projects():\n",
    "    return 'The project page'\n",
    "\n",
    "@app.route('/about')\n",
    "def about():\n",
    "    return 'The about page'"
   ]
  },
  {
   "cell_type": "markdown",
   "id": "5e4f83eb",
   "metadata": {},
   "source": [
    "The canonical URL for the projects endpoint has a trailing slash. It`s similar to a folder in a file system .If you access the URL without a trailing slash (/projects),Flask redirects you to the canonical URL with the trailing slash (/projects/)"
   ]
  },
  {
   "cell_type": "markdown",
   "id": "42e9fbfa",
   "metadata": {},
   "source": [
    "Then the canonical URL for the about endpoint does not have a trailing slash .It`s similar to the pathname of a file .Accessing the URL with a trailing slash (/about/) produces a 404 \"Not Found\" error .This helps keep URLs unique for these resources ,which helps search engines avoid indexing the same page twice."
   ]
  }
 ],
 "metadata": {
  "kernelspec": {
   "display_name": "env (3.13.5)",
   "language": "python",
   "name": "python3"
  },
  "language_info": {
   "codemirror_mode": {
    "name": "ipython",
    "version": 3
   },
   "file_extension": ".py",
   "mimetype": "text/x-python",
   "name": "python",
   "nbconvert_exporter": "python",
   "pygments_lexer": "ipython3",
   "version": "3.13.5"
  }
 },
 "nbformat": 4,
 "nbformat_minor": 5
}
