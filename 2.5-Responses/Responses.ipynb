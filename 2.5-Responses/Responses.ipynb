{
 "cells": [
  {
   "cell_type": "markdown",
   "id": "22ed868a",
   "metadata": {},
   "source": [
    "# Responses"
   ]
  },
  {
   "cell_type": "markdown",
   "id": "41c38b9c",
   "metadata": {},
   "source": [
    "The return value from a view function is automatically converted into a response object for you . If the return value is a string it`s converted into a response object with the string as response body ,a 200 OK status code and a text/html mimetype. If the return value is a dict or list ,jsonify() is called to produce a response .The logic that Flask applies to converting returns values into response objects is as follows:\n",
    "\n",
    "1. If a response object of the correct type is returned it’s directly returned from the view.\n",
    "2. If it’s a string, a response object is created with that data and the default parameters.\n",
    "3. If it’s an iterator or generator returning strings or bytes, it is treated as a streaming response.\n",
    "4. If it’s a dict or list, a response object is created using jsonify().\n",
    "5. If a tuple is returned the items in the tuple can provide extra information. Such tuples have to be in the form\n",
    "(response, status), (response, headers), or (response, status, headers). The status value\n",
    "will override the status code and headers can be a list or dictionary of additional header values.\n",
    "6. If none of that works, Flask will assume the return value is a valid WSGI application and convert that into a\n",
    "response object.\n",
    "\n",
    ">If you want to get hold of the resulting response object inside the view you can use the make_response() function."
   ]
  },
  {
   "cell_type": "markdown",
   "id": "d52a9c2a",
   "metadata": {},
   "source": [
    "#### Imagine you have a view like this"
   ]
  },
  {
   "cell_type": "code",
   "execution_count": null,
   "id": "f2b65bb2",
   "metadata": {},
   "outputs": [],
   "source": [
    "from flask import render_template,Flask\n",
    "\n",
    "app = Flask(__name__)\n",
    "\n",
    "@app.errorhandler(404)\n",
    "def not_found(error):\n",
    "    return render_template('error.html'),404"
   ]
  },
  {
   "cell_type": "markdown",
   "id": "5bc50692",
   "metadata": {},
   "source": [
    "You just need to wrap the return expression with make_response() and get the response object to modify it, then\n",
    "return it:"
   ]
  },
  {
   "cell_type": "code",
   "execution_count": 4,
   "id": "e6772de3",
   "metadata": {},
   "outputs": [],
   "source": [
    "from flask import make_response\n",
    "\n",
    "@app.errorhandler(404)\n",
    "def not_found(error):\n",
    "    resp = make_response(render_template('error.html'),404)\n",
    "    resp.headers['X-Something'] = 'A value'\n",
    "    return resp"
   ]
  }
 ],
 "metadata": {
  "kernelspec": {
   "display_name": "env (3.13.5)",
   "language": "python",
   "name": "python3"
  },
  "language_info": {
   "codemirror_mode": {
    "name": "ipython",
    "version": 3
   },
   "file_extension": ".py",
   "mimetype": "text/x-python",
   "name": "python",
   "nbconvert_exporter": "python",
   "pygments_lexer": "ipython3",
   "version": "3.13.5"
  }
 },
 "nbformat": 4,
 "nbformat_minor": 5
}
