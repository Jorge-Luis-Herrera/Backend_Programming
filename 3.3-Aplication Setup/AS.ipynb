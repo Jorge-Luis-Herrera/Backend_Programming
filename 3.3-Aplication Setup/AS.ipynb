{
 "cells": [
  {
   "cell_type": "markdown",
   "id": "52d722f2",
   "metadata": {},
   "source": [
    "# ***Aplication Setup***"
   ]
  },
  {
   "cell_type": "markdown",
   "id": "8a0bd557",
   "metadata": {},
   "source": [
    "A Flask application is an instance of the Flask class. Everything about the application, such as configuration andURLs, will be registered with this class."
   ]
  },
  {
   "cell_type": "markdown",
   "id": "40eb2a15",
   "metadata": {},
   "source": [
    "The most straightforward way to create a Flask application is to create a global Flask instance directly at the top ofyour code, like how the “Hello, World!” example did on the previous page. While this is simple and useful in some cases, it can cause some tricky issues as the project grows."
   ]
  },
  {
   "cell_type": "markdown",
   "id": "8ee9e6b9",
   "metadata": {},
   "source": [
    "Instead of creating a Flask instance globally, you will create it inside a function. This function is known as the appli-cation factory. Any configuration, registration, and other setup the application needs will happen inside the function,then the application will be returned."
   ]
  },
  {
   "cell_type": "markdown",
   "id": "2bbde971",
   "metadata": {},
   "source": [
    "#### ***The Application Factory***"
   ]
  },
  {
   "cell_type": "markdown",
   "id": "f7c75c94",
   "metadata": {},
   "source": [
    "It’s time to start coding! Create the flaskr directory and add the __init__.py file. The __init__.py serves double\n",
    "duty: it will contain the application factory, and it tells Python that the flaskr directory should be treated as a package."
   ]
  },
  {
   "cell_type": "markdown",
   "id": "d9ac8bb1",
   "metadata": {},
   "source": [
    ">$ mkdir flaskr"
   ]
  },
  {
   "cell_type": "code",
   "execution_count": 1,
   "id": "ef04f16a",
   "metadata": {},
   "outputs": [],
   "source": [
    "import os\n",
    "from flask import Flask\n",
    "\n",
    "def create_app(test_config=None):\n",
    "    #create and configure the app \n",
    "\n",
    "    app = Flask(__name__,instance_relative_config=True)\n",
    "    app.config.from_mapping(\n",
    "        SECRET_KEY='dev',\n",
    "        DATABASE=os.path.join(app.instance_path,'flaskr.sqlite'),\n",
    "    )\n",
    "    if test_config is None:\n",
    "        # load the instance config ,if it exists,when not testing\n",
    "        app.config.from_pyfile('config.py',silent=True)\n",
    "    else:\n",
    "        # load the test config if passed in\n",
    "        app.config.from_mapping(test_config)\n",
    "    # ensure the instance folder exists\n",
    "    try:\n",
    "        os.makedirs(app.instance_path)\n",
    "    except OSError:\n",
    "        pass\n",
    "    # a simple page that say hello world\n",
    "    @app.route('/hello')\n",
    "    def hello():\n",
    "        return 'Hello World!'\n",
    "    return app"
   ]
  },
  {
   "cell_type": "markdown",
   "id": "4b5ad624",
   "metadata": {},
   "source": [
    "create_app is the application factory function. You’ll add to it later in the tutorial, but it already does a lot.\n",
    "\n",
    "1. app = Flask(__name__, instance_relative_config=True) creates the Flask instance.\n",
    "    - __name__ is the name of the current Python module. The app needs to know where it’s located to set up\n",
    "some paths, and __name__ is a convenient way to tell it that.\n",
    "    - instance_relative_config=True tells the app that configuration files are relative to the instance folder.\n",
    "The instance folder is located outside the flaskr package and can hold local data that shouldn’t be com-\n",
    "mitted to version control, such as configuration secrets and the database file.\n",
    "\n",
    "2. app.config.from_mapping() sets some default configuration that the app will use:\n",
    "    - SECRET_KEY is used by Flask and extensions to keep data safe. It’s set to 'dev' to provide a convenient\n",
    "value during development, but it should be overridden with a random value when deploying.\n",
    "    - DATABASE is the path where the SQLite database file will be saved. It’s under app.instance_path , which\n",
    "is the path that Flask has chosen for the instance folder. You’ll learn more about the database in the next\n",
    "section.\n",
    "\n",
    "3. app.config.from_pyfile() overrides the default configuration with values taken from the config.py file in the instance folder if it exists. For example, when deploying, this can be used to set a real SECRET_KEY.\n",
    "    - test_config can also be passed to the factory, and will be used instead of the instance configuration. This\n",
    "is so the tests you’ll write later in the tutorial can be configured independently of any development values\n",
    "you have configured.\n",
    "\n",
    "4. os.makedirs() ensures that app.instance_path exists. Flask doesn’t create the instance folder automati-\n",
    "cally, but it needs to be created because your project will create the SQLite database file there.\n",
    "\n",
    "5. @app.route() creates a simple route so you can see the application working before getting into the rest of the\n",
    "tutorial. It creates a connection between the URL /hello and a function that returns a response, the string\n",
    "'Hello, World!' in this case.\n"
   ]
  },
  {
   "cell_type": "markdown",
   "id": "afc4afed",
   "metadata": {},
   "source": [
    "## Running the App"
   ]
  },
  {
   "cell_type": "markdown",
   "id": "6719916b",
   "metadata": {},
   "source": [
    "Now you can run your application using the flask command. From the terminal, tell Flask where to find your appli-\n",
    "cation, then run it in debug mode. Remember, you should still be in the top-level flask-tutorial directory, not the\n",
    "flaskr package."
   ]
  },
  {
   "cell_type": "markdown",
   "id": "900410d3",
   "metadata": {},
   "source": [
    "Debug mode shows an interactive debugger whenever a page raises an exception, and restarts the server whenever you\n",
    "make changes to the code. You can leave it running and just reload the browser page as you follow the tutorial."
   ]
  },
  {
   "cell_type": "markdown",
   "id": "e0de1c56",
   "metadata": {},
   "source": [
    ">$ flask --app flaskr run --debug"
   ]
  },
  {
   "cell_type": "markdown",
   "id": "3d8e39b4",
   "metadata": {},
   "source": [
    "##### **You’ll see output similar to this:**"
   ]
  },
  {
   "cell_type": "markdown",
   "id": "9984aa66",
   "metadata": {},
   "source": [
    "* Serving Flask app \"flaskr\"\n",
    "* Debug mode: on\n",
    "* Running on http://127.0.0.1:5000/ (Press CTRL+C to quit)\n",
    "* Restarting with stat\n",
    "* Debugger is active!\n",
    "* Debugger PIN: nnn-nnn-nnn"
   ]
  },
  {
   "cell_type": "markdown",
   "id": "6ce1ac9f",
   "metadata": {},
   "source": [
    "Visit http://127.0.0.1:5000/hello in a browser and you should see the “Hello, World!” message. Congratulations, you’re\n",
    "now running your Flask web application!"
   ]
  },
  {
   "cell_type": "markdown",
   "id": "abe7bc44",
   "metadata": {},
   "source": [
    "If another program is already using port 5000, you’ll see OSError: [Errno 98] or OSError:\n",
    "10013] when the server tries to start. See Address already in use for how to handle that."
   ]
  }
 ],
 "metadata": {
  "kernelspec": {
   "display_name": "env (3.13.5)",
   "language": "python",
   "name": "python3"
  },
  "language_info": {
   "codemirror_mode": {
    "name": "ipython",
    "version": 3
   },
   "file_extension": ".py",
   "mimetype": "text/x-python",
   "name": "python",
   "nbconvert_exporter": "python",
   "pygments_lexer": "ipython3",
   "version": "3.13.5"
  }
 },
 "nbformat": 4,
 "nbformat_minor": 5
}
