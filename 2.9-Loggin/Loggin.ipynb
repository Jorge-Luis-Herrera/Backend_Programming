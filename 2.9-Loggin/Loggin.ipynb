{
 "cells": [
  {
   "cell_type": "markdown",
   "id": "6eff74c1",
   "metadata": {},
   "source": [
    "# Loggin"
   ]
  },
  {
   "cell_type": "markdown",
   "id": "45ce3486",
   "metadata": {},
   "source": [
    "New in version 0.3.\n",
    "Sometimes you might be in a situation where you deal with data that should be correct, but actually is not. For example\n",
    "you may have some client-side code that sends an HTTP request to the server but it’s obviously malformed. This might\n",
    "be caused by a user tampering with the data, or the client code failing. Most of the time it’s okay to reply with 400\n",
    "Bad Request in that situation, but sometimes that won’t do and the code has to continue working.\n",
    "You may still want to log that something fishy happened. This is where loggers come in handy. As of Flask 0.3 a logger\n",
    "is preconfigured for you to use.\n",
    "Here are some example log calls:"
   ]
  },
  {
   "cell_type": "code",
   "execution_count": null,
   "id": "9a3ffb93",
   "metadata": {},
   "outputs": [
    {
     "ename": "NameError",
     "evalue": "name 'app' is not defined",
     "output_type": "error",
     "traceback": [
      "\u001b[31m---------------------------------------------------------------------------\u001b[39m",
      "\u001b[31mNameError\u001b[39m                                 Traceback (most recent call last)",
      "\u001b[36mCell\u001b[39m\u001b[36m \u001b[39m\u001b[32mIn[1]\u001b[39m\u001b[32m, line 1\u001b[39m\n\u001b[32m----> \u001b[39m\u001b[32m1\u001b[39m \u001b[43mapp\u001b[49m.logger.debug(\u001b[33m'\u001b[39m\u001b[33mA value for debugging\u001b[39m\u001b[33m'\u001b[39m)\n\u001b[32m      2\u001b[39m app.logger.warning(\u001b[33m'\u001b[39m\u001b[33mA warning occurred (\u001b[39m\u001b[38;5;132;01m%d\u001b[39;00m\u001b[33m apples)\u001b[39m\u001b[33m'\u001b[39m, \u001b[32m42\u001b[39m)\n\u001b[32m      3\u001b[39m app.logger.error(\u001b[33m'\u001b[39m\u001b[33mAn error occurred\u001b[39m\u001b[33m'\u001b[39m)\n",
      "\u001b[31mNameError\u001b[39m: name 'app' is not defined"
     ]
    }
   ],
   "source": [
    "from flask import Flask\n",
    "\n",
    "app = Flask(__name__)\n",
    "\n",
    "app.logger.debug('A value for debugging')\n",
    "app.logger.warning('A warning occurred (%d apples)', 42)\n",
    "app.logger.error('An error occurred')"
   ]
  }
 ],
 "metadata": {
  "kernelspec": {
   "display_name": "env (3.13.5)",
   "language": "python",
   "name": "python3"
  },
  "language_info": {
   "codemirror_mode": {
    "name": "ipython",
    "version": 3
   },
   "file_extension": ".py",
   "mimetype": "text/x-python",
   "name": "python",
   "nbconvert_exporter": "python",
   "pygments_lexer": "ipython3",
   "version": "3.13.5"
  }
 },
 "nbformat": 4,
 "nbformat_minor": 5
}
