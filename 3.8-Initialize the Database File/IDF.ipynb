{
 "cells": [
  {
   "cell_type": "markdown",
   "id": "48f1ae5d",
   "metadata": {},
   "source": [
    "# Initialize the Database File"
   ]
  },
  {
   "cell_type": "markdown",
   "id": "573290b9",
   "metadata": {},
   "source": [
    "Now that init-db has been registered with the app, it can be called using the flask command, similar to the run\n",
    "command from the previous page."
   ]
  },
  {
   "cell_type": "markdown",
   "id": "dc0f396e",
   "metadata": {},
   "source": [
    "**Note**: If you’re still running the server from the previous page, you can either stop the server, or run this command\n",
    "in a new terminal. If you use a new terminal, remember to change to your project directory and activate the env as\n",
    "described in Installation"
   ]
  },
  {
   "cell_type": "markdown",
   "id": "41a33e84",
   "metadata": {},
   "source": [
    "Run the init-db command:"
   ]
  },
  {
   "cell_type": "markdown",
   "id": "1141b78a",
   "metadata": {},
   "source": [
    ">- $ flask --app flaskr init-db\n",
    "#\n",
    "**Initialized the database**"
   ]
  },
  {
   "cell_type": "markdown",
   "id": "830c106a",
   "metadata": {},
   "source": [
    "There will now be a flaskr.MySql file in the instance folder in your project."
   ]
  }
 ],
 "metadata": {
  "kernelspec": {
   "display_name": "env (3.13.5)",
   "language": "python",
   "name": "python3"
  },
  "language_info": {
   "name": "python",
   "version": "3.13.5"
  }
 },
 "nbformat": 4,
 "nbformat_minor": 5
}
