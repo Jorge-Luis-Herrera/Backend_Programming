{
 "cells": [
  {
   "cell_type": "markdown",
   "id": "7324a187",
   "metadata": {},
   "source": [
    "# Templates"
   ]
  },
  {
   "cell_type": "markdown",
   "id": "e5f63c4b",
   "metadata": {},
   "source": [
    "**Templates are use in Flask to render the pages and use variables in the html code**"
   ]
  },
  {
   "cell_type": "markdown",
   "id": "3698fe27",
   "metadata": {},
   "source": [
    "> **You must create a templates folder first to use this in your projects ,Flask automatic use this folder**"
   ]
  }
 ],
 "metadata": {
  "kernelspec": {
   "display_name": "env (3.13.5)",
   "language": "python",
   "name": "python3"
  },
  "language_info": {
   "name": "python",
   "version": "3.13.5"
  }
 },
 "nbformat": 4,
 "nbformat_minor": 5
}
