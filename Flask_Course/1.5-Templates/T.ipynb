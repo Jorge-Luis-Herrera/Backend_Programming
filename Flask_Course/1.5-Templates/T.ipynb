{
 "cells": [
  {
   "cell_type": "markdown",
   "id": "7324a187",
   "metadata": {},
   "source": [
    "# Templates"
   ]
  },
  {
   "cell_type": "markdown",
   "id": "e5f63c4b",
   "metadata": {},
   "source": [
    "**Templates are use in Flask to render the pages and use variables in the html code**"
   ]
  },
  {
   "cell_type": "markdown",
   "id": "3698fe27",
   "metadata": {},
   "source": [
    "> **You must create a templates folder first to use this in your projects ,Flask automatic use this folder**"
   ]
  },
  {
   "cell_type": "code",
   "execution_count": null,
   "id": "db966d95",
   "metadata": {},
   "outputs": [],
   "source": [
    "rom flask import Flask,request,make_response,redirect,render_template\n",
    "\n",
    "app = Flask(__name__)\n",
    "\n",
    "@app.route(\"/index\")\n",
    "def index():\n",
    "    ip = request.remote_addr\n",
    "    response = make_response(redirect(\"/candela\"))\n",
    "    response.set_cookie(\"Candelita\",ip)\n",
    "    return response\n",
    "\n",
    "@app.route(\"/candela\")\n",
    "def candela():\n",
    "    user_ip = request.cookies.get(\"Candelita\")\n",
    "    return render_template(\"ip.html\",user_ip=user_ip)\n",
    "\n",
    "app.run(host='0.0.0.0',port='3360',debug=True)"
   ]
  },
  {
   "cell_type": "markdown",
   "id": "d743aef2",
   "metadata": {},
   "source": [
    "**The only diferent in this code is we use render_template to return vars into html code ,in this case Flask find ip.html and get the var user_ip to set user_ip value into this var .**"
   ]
  }
 ],
 "metadata": {
  "kernelspec": {
   "display_name": "env (3.13.5)",
   "language": "python",
   "name": "python3"
  },
  "language_info": {
   "name": "python",
   "version": "3.13.5"
  }
 },
 "nbformat": 4,
 "nbformat_minor": 5
}
