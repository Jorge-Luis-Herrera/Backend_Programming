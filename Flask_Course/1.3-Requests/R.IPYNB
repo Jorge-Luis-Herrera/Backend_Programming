{
 "cells": [
  {
   "cell_type": "markdown",
   "id": "23de29a9",
   "metadata": {},
   "source": [
    "# Requests"
   ]
  },
  {
   "cell_type": "code",
   "execution_count": 2,
   "id": "924a753d",
   "metadata": {},
   "outputs": [
    {
     "name": "stdout",
     "output_type": "stream",
     "text": [
      " * Serving Flask app '__main__'\n",
      " * Debug mode: on\n"
     ]
    },
    {
     "name": "stderr",
     "output_type": "stream",
     "text": [
      "\u001b[31m\u001b[1mWARNING: This is a development server. Do not use it in a production deployment. Use a production WSGI server instead.\u001b[0m\n",
      " * Running on all addresses (0.0.0.0)\n",
      " * Running on http://127.0.0.1:2888\n",
      " * Running on http://192.168.1.101:2888\n",
      "\u001b[33mPress CTRL+C to quit\u001b[0m\n",
      " * Restarting with stat\n",
      "Traceback (most recent call last):\n",
      "  File \"<frozen runpy>\", line 198, in _run_module_as_main\n",
      "  File \"<frozen runpy>\", line 88, in _run_code\n",
      "  File \"/home/jorge/No-Home/Learning/Flask/Flask_Course/env/lib/python3.13/site-packages/ipykernel_launcher.py\", line 18, in <module>\n",
      "    app.launch_new_instance()\n",
      "    ~~~~~~~~~~~~~~~~~~~~~~~^^\n",
      "  File \"/home/jorge/No-Home/Learning/Flask/Flask_Course/env/lib/python3.13/site-packages/traitlets/config/application.py\", line 1074, in launch_instance\n",
      "    app.initialize(argv)\n",
      "    ~~~~~~~~~~~~~~^^^^^^\n",
      "  File \"/home/jorge/No-Home/Learning/Flask/Flask_Course/env/lib/python3.13/site-packages/traitlets/config/application.py\", line 118, in inner\n",
      "    return method(app, *args, **kwargs)\n",
      "  File \"/home/jorge/No-Home/Learning/Flask/Flask_Course/env/lib/python3.13/site-packages/ipykernel/kernelapp.py\", line 692, in initialize\n",
      "    self.init_sockets()\n",
      "    ~~~~~~~~~~~~~~~~~^^\n",
      "  File \"/home/jorge/No-Home/Learning/Flask/Flask_Course/env/lib/python3.13/site-packages/ipykernel/kernelapp.py\", line 331, in init_sockets\n",
      "    self.shell_port = self._bind_socket(self.shell_socket, self.shell_port)\n",
      "                      ~~~~~~~~~~~~~~~~~^^^^^^^^^^^^^^^^^^^^^^^^^^^^^^^^^^^^\n",
      "  File \"/home/jorge/No-Home/Learning/Flask/Flask_Course/env/lib/python3.13/site-packages/ipykernel/kernelapp.py\", line 253, in _bind_socket\n",
      "    return self._try_bind_socket(s, port)\n",
      "           ~~~~~~~~~~~~~~~~~~~~~^^^^^^^^^\n",
      "  File \"/home/jorge/No-Home/Learning/Flask/Flask_Course/env/lib/python3.13/site-packages/ipykernel/kernelapp.py\", line 229, in _try_bind_socket\n",
      "    s.bind(\"tcp://%s:%i\" % (self.ip, port))\n",
      "    ~~~~~~^^^^^^^^^^^^^^^^^^^^^^^^^^^^^^^^^\n",
      "  File \"/home/jorge/No-Home/Learning/Flask/Flask_Course/env/lib/python3.13/site-packages/zmq/sugar/socket.py\", line 320, in bind\n",
      "    super().bind(addr)\n",
      "    ~~~~~~~~~~~~^^^^^^\n",
      "  File \"zmq/backend/cython/_zmq.py\", line 998, in zmq.backend.cython._zmq.Socket.bind\n",
      "    _check_rc(rc)\n",
      "    \n",
      "  File \"zmq/backend/cython/_zmq.py\", line 187, in zmq.backend.cython._zmq._check_rc\n",
      "    raise ZMQError(errno)\n",
      "    \n",
      "zmq.error.ZMQError: Address already in use (addr='tcp://127.0.0.1:9002')\n"
     ]
    },
    {
     "ename": "SystemExit",
     "evalue": "1",
     "output_type": "error",
     "traceback": [
      "An exception has occurred, use %tb to see the full traceback.\n",
      "\u001b[31mSystemExit\u001b[39m\u001b[31m:\u001b[39m 1\n"
     ]
    }
   ],
   "source": [
    "from flask import Flask,request\n",
    "\n",
    "app = Flask(__name__)\n",
    "\n",
    "@app.route(\"/\")\n",
    "def hello():\n",
    "    ip = request.remote_addr\n",
    "    return f\"Hello + {ip}\" \n",
    "\n",
    "app.run(\"0.0.0.0\",2888,debug=True)"
   ]
  }
 ],
 "metadata": {
  "kernelspec": {
   "display_name": "env (3.13.5)",
   "language": "python",
   "name": "python3"
  },
  "language_info": {
   "codemirror_mode": {
    "name": "ipython",
    "version": 3
   },
   "file_extension": ".py",
   "mimetype": "text/x-python",
   "name": "python",
   "nbconvert_exporter": "python",
   "pygments_lexer": "ipython3",
   "version": "3.13.5"
  }
 },
 "nbformat": 4,
 "nbformat_minor": 5
}
