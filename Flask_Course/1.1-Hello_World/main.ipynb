{
 "cells": [
  {
   "cell_type": "markdown",
   "id": "b5b88dd7",
   "metadata": {},
   "source": [
    "# Hello World"
   ]
  },
  {
   "cell_type": "markdown",
   "id": "d7c9b185",
   "metadata": {},
   "source": [
    "### Requeriments :\n",
    "- pip install flask"
   ]
  },
  {
   "cell_type": "markdown",
   "id": "8d5a4744",
   "metadata": {},
   "source": [
    "### **Simple app**"
   ]
  },
  {
   "cell_type": "markdown",
   "id": "dad26719",
   "metadata": {},
   "source": [
    "**import flask library**"
   ]
  },
  {
   "cell_type": "code",
   "execution_count": 2,
   "id": "39792f14",
   "metadata": {},
   "outputs": [],
   "source": [
    "from flask import Flask"
   ]
  },
  {
   "cell_type": "markdown",
   "id": "185fedfc",
   "metadata": {},
   "source": [
    "**Create the app**"
   ]
  },
  {
   "cell_type": "code",
   "execution_count": 3,
   "id": "aa3ee085",
   "metadata": {},
   "outputs": [],
   "source": [
    "app = Flask(__name__)"
   ]
  },
  {
   "cell_type": "markdown",
   "id": "693abe84",
   "metadata": {},
   "source": [
    "**Define the route and the function in that route**"
   ]
  },
  {
   "cell_type": "code",
   "execution_count": 4,
   "id": "9e4f6554",
   "metadata": {},
   "outputs": [],
   "source": [
    "@app.route(\"/\") # In this case we use the root\n",
    "def Say_Hello():\n",
    "    return \"Hello\""
   ]
  },
  {
   "cell_type": "markdown",
   "id": "36db64aa",
   "metadata": {},
   "source": [
    "**Run the app**"
   ]
  },
  {
   "cell_type": "code",
   "execution_count": 5,
   "id": "b189ff5c",
   "metadata": {},
   "outputs": [
    {
     "name": "stdout",
     "output_type": "stream",
     "text": [
      " * Serving Flask app '__main__'\n",
      " * Debug mode: off\n"
     ]
    },
    {
     "name": "stderr",
     "output_type": "stream",
     "text": [
      "\u001b[31m\u001b[1mWARNING: This is a development server. Do not use it in a production deployment. Use a production WSGI server instead.\u001b[0m\n",
      " * Running on all addresses (0.0.0.0)\n",
      " * Running on http://127.0.0.1:3361\n",
      " * Running on http://192.168.1.101:3361\n",
      "\u001b[33mPress CTRL+C to quit\u001b[0m\n"
     ]
    }
   ],
   "source": [
    "app.run(\"0.0.0.0\",3361)"
   ]
  }
 ],
 "metadata": {
  "kernelspec": {
   "display_name": "env (3.13.5)",
   "language": "python",
   "name": "python3"
  },
  "language_info": {
   "codemirror_mode": {
    "name": "ipython",
    "version": 3
   },
   "file_extension": ".py",
   "mimetype": "text/x-python",
   "name": "python",
   "nbconvert_exporter": "python",
   "pygments_lexer": "ipython3",
   "version": "3.13.5"
  }
 },
 "nbformat": 4,
 "nbformat_minor": 5
}
