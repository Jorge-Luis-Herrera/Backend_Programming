{
 "cells": [
  {
   "cell_type": "markdown",
   "id": "b5b88dd7",
   "metadata": {},
   "source": [
    "# Hello World"
   ]
  },
  {
   "cell_type": "markdown",
   "id": "d7c9b185",
   "metadata": {},
   "source": [
    "### Requeriments :\n",
    "- pip install flask"
   ]
  },
  {
   "cell_type": "markdown",
   "id": "8d5a4744",
   "metadata": {},
   "source": [
    "### **Simple app**"
   ]
  },
  {
   "cell_type": "markdown",
   "id": "dad26719",
   "metadata": {},
   "source": [
    "**import flask library**"
   ]
  },
  {
   "cell_type": "code",
   "execution_count": null,
   "id": "39792f14",
   "metadata": {},
   "outputs": [],
   "source": [
    "from flask import Flask"
   ]
  },
  {
   "cell_type": "markdown",
   "id": "185fedfc",
   "metadata": {},
   "source": [
    "**Create the app**"
   ]
  },
  {
   "cell_type": "code",
   "execution_count": null,
   "id": "aa3ee085",
   "metadata": {},
   "outputs": [],
   "source": [
    "app = Flask(__name__)"
   ]
  },
  {
   "cell_type": "markdown",
   "id": "693abe84",
   "metadata": {},
   "source": [
    "**Define the route and the function in that route**"
   ]
  },
  {
   "cell_type": "code",
   "execution_count": null,
   "id": "9e4f6554",
   "metadata": {},
   "outputs": [],
   "source": [
    "@app.route(\"/\") # In this case we use the root\n",
    "def Say_Hello():\n",
    "    return \"Hello\""
   ]
  },
  {
   "cell_type": "markdown",
   "id": "36db64aa",
   "metadata": {},
   "source": [
    "**Run the app**"
   ]
  },
  {
   "cell_type": "code",
   "execution_count": null,
   "id": "b189ff5c",
   "metadata": {},
   "outputs": [],
   "source": [
    "app.run(\"0.0.0.0\",3361)"
   ]
  }
 ],
 "metadata": {
  "kernelspec": {
   "display_name": "env (3.13.5)",
   "language": "python",
   "name": "python3"
  },
  "language_info": {
   "codemirror_mode": {
    "name": "ipython",
    "version": 3
   },
   "file_extension": ".py",
   "mimetype": "text/x-python",
   "name": "python",
   "nbconvert_exporter": "python",
   "pygments_lexer": "ipython3",
   "version": "3.13.5"
  }
 },
 "nbformat": 4,
 "nbformat_minor": 5
}
