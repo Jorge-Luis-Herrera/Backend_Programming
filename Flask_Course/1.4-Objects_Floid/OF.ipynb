{
 "cells": [
  {
   "cell_type": "markdown",
   "id": "48e452db",
   "metadata": {},
   "source": [
    "# Requests and Responses"
   ]
  },
  {
   "cell_type": "markdown",
   "id": "af354e2b",
   "metadata": {},
   "source": [
    "**First import the necesaries libraries**"
   ]
  },
  {
   "cell_type": "code",
   "execution_count": 1,
   "id": "a2ef7d48",
   "metadata": {},
   "outputs": [],
   "source": [
    "from flask import Flask,request,make_response,redirect"
   ]
  },
  {
   "cell_type": "markdown",
   "id": "a0c3e648",
   "metadata": {},
   "source": [
    "**Create the flask app**"
   ]
  },
  {
   "cell_type": "code",
   "execution_count": 2,
   "id": "7b0008ba",
   "metadata": {},
   "outputs": [],
   "source": [
    "app = Flask(__name__)"
   ]
  },
  {
   "cell_type": "markdown",
   "id": "c6583791",
   "metadata": {},
   "source": [
    "**Then create the index route with the index function**"
   ]
  },
  {
   "cell_type": "code",
   "execution_count": null,
   "id": "85bf79fa",
   "metadata": {},
   "outputs": [],
   "source": [
    "@app.route(\"/index\")\n",
    "def index():\n",
    "    ip = request.remote_addr\n",
    "    response = make_response(redirect(\"/candela\"))\n",
    "    response.set_cookie(\"User_Ip_Information\",ip)\n",
    "    return response\n"
   ]
  },
  {
   "cell_type": "markdown",
   "id": "a29feeec",
   "metadata": {},
   "source": [
    "**request.remote_addr return the ip direction of the user**"
   ]
  },
  {
   "cell_type": "markdown",
   "id": "d59573cd",
   "metadata": {},
   "source": [
    "**make_response(redirect(\"/candela\")) automatic redirect to the new page**"
   ]
  },
  {
   "cell_type": "markdown",
   "id": "cb9205d9",
   "metadata": {},
   "source": [
    "**response.set_cookie(\"User_Ip_Information\",ip) set a cookie with a especific value ,in this case the ip ,and then return the response with the direction and the cookie**"
   ]
  }
 ],
 "metadata": {
  "kernelspec": {
   "display_name": "env (3.13.5)",
   "language": "python",
   "name": "python3"
  },
  "language_info": {
   "codemirror_mode": {
    "name": "ipython",
    "version": 3
   },
   "file_extension": ".py",
   "mimetype": "text/x-python",
   "name": "python",
   "nbconvert_exporter": "python",
   "pygments_lexer": "ipython3",
   "version": "3.13.5"
  }
 },
 "nbformat": 4,
 "nbformat_minor": 5
}
