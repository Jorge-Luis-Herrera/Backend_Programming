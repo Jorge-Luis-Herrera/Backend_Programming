{
 "cells": [
  {
   "cell_type": "markdown",
   "id": "527b9434",
   "metadata": {},
   "source": [
    "# URL Building\n"
   ]
  },
  {
   "cell_type": "markdown",
   "id": "8dbd30b7",
   "metadata": {},
   "source": [
    "**To build a URL to specific function ,use the url_for() function .It accepts the name of the function as its first argument and any number of keyword arguments, each corresponding to a variable part of the URL rule .Unknown variable parts are appended to the URL as query parameters**\n"
   ]
  },
  {
   "cell_type": "markdown",
   "id": "1cc1528d",
   "metadata": {},
   "source": [
    "**Why would you want to build URLs using the URL reversing function url_for() instead of hard-coding them into your templates ?**\n",
    "1. Reversing is often more descriptive that hard-coding the URLs.\n",
    "2. You can change your URLs in one go instead of needing to remember to manually change hard-coded URLs\n",
    "3. URL building handles escaping of special characters transparently\n",
    "4. The generated paths are always absolute,avoiding unexpected behavior of relative paths in browsers.\n",
    "5. If your application is placed outside the URL root ,for example ,in /myapplication instead of /,url_for()properly handles that for you"
   ]
  },
  {
   "cell_type": "markdown",
   "id": "47a8a8dc",
   "metadata": {},
   "source": [
    "**For example,here we use the test_request_context() method to try out url_for(). test_request_context() tells Flask to behaveas though**\n",
    "**it`s handling a request even while we use a Python shell**"
   ]
  },
  {
   "cell_type": "code",
   "execution_count": 3,
   "id": "2047ced8",
   "metadata": {},
   "outputs": [
    {
     "name": "stdout",
     "output_type": "stream",
     "text": [
      "/\n",
      "/login\n",
      "/login?next=/\n",
      "/user/John%20Doe\n"
     ]
    }
   ],
   "source": [
    "from flask import Flask\n",
    "from markupsafe import escape\n",
    "\n",
    "app = Flask(__name__)\n",
    "@app.route('/')\n",
    "def index():\n",
    "    return 'index'\n",
    "\n",
    "@app.route('/login')\n",
    "def login():\n",
    "    return 'login'\n",
    "\n",
    "@app.route('/user/<username>')\n",
    "def profile(username):\n",
    "    return f'{username}\\'s profile'\n",
    "\n",
    "with app.test_request_context():\n",
    "    print(app.url_for('index'))\n",
    "    print(app.url_for('login'))\n",
    "    print(app.url_for('login',next='/'))\n",
    "    print(app.url_for('profile',username='John Doe'))"
   ]
  },
  {
   "cell_type": "markdown",
   "id": "b9be961c",
   "metadata": {},
   "source": [
    "#### Output\n",
    "\n",
    "**/**\n",
    "##### /login\n",
    "**/login?next=/**\n",
    "##### /user/John%20Doe"
   ]
  }
 ],
 "metadata": {
  "kernelspec": {
   "display_name": "env (3.13.5)",
   "language": "python",
   "name": "python3"
  },
  "language_info": {
   "codemirror_mode": {
    "name": "ipython",
    "version": 3
   },
   "file_extension": ".py",
   "mimetype": "text/x-python",
   "name": "python",
   "nbconvert_exporter": "python",
   "pygments_lexer": "ipython3",
   "version": "3.13.5"
  }
 },
 "nbformat": 4,
 "nbformat_minor": 5
}
