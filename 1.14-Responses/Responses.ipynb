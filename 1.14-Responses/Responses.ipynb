{
 "cells": [
  {
   "cell_type": "markdown",
   "id": "22ed868a",
   "metadata": {},
   "source": [
    "# Responses"
   ]
  }
 ],
 "metadata": {
  "language_info": {
   "name": "python"
  }
 },
 "nbformat": 4,
 "nbformat_minor": 5
}
