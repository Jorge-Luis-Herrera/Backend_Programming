{
 "cells": [
  {
   "cell_type": "markdown",
   "id": "e7dec191",
   "metadata": {},
   "source": [
    "# Routing\n",
    "\n",
    "Modern web applications use meaningful URLs to help users . Users are more likely to like a page and come back if the page uses a meaningful URL the can remember and use directly visit a page ."
   ]
  },
  {
   "cell_type": "markdown",
   "id": "915d2c7d",
   "metadata": {},
   "source": [
    "**Use the route() decorator to bind a function to a URL.**"
   ]
  },
  {
   "cell_type": "code",
   "execution_count": 1,
   "id": "6a96366a",
   "metadata": {},
   "outputs": [],
   "source": [
    "from flask import Flask\n",
    "\n",
    "app=Flask(__name__)\n",
    "\n",
    "@app.route(\"/\")\n",
    "\n",
    "def index():\n",
    "    return 'Index Page'\n",
    "\n",
    "@app.route('/hello')\n",
    "\n",
    "def hello():\n",
    "    return 'Hello ,World'\n"
   ]
  },
  {
   "cell_type": "markdown",
   "id": "94a0dbd0",
   "metadata": {},
   "source": [
    "**You can do more! You can make parts of the URL dynamic and attach multiple rules to a function.**"
   ]
  },
  {
   "cell_type": "markdown",
   "id": "eab5410f",
   "metadata": {},
   "source": [
    "#### Variable Rules"
   ]
  },
  {
   "cell_type": "markdown",
   "id": "c1632a2a",
   "metadata": {},
   "source": [
    "You can add variable sections to a URL by marking sections with <var_name> .Your function then receives the <var_name> as a keyword argument .Optionaly ,you can use a converter to specify the type of the argument like <\"converter:var_name\">"
   ]
  },
  {
   "cell_type": "code",
   "execution_count": null,
   "id": "139f6f9e",
   "metadata": {},
   "outputs": [],
   "source": [
    "from flask import Flask\n",
    "from markupsafe import escape\n",
    "\n",
    "@app.route('/user/<username>')\n",
    "def show_user_profile(username):\n",
    "    #show the user profile for that user\n",
    "    return f'User {escape(username)}'\n",
    "\n",
    "@app.route('/post/<int:post_id>')\n",
    "def show_post(post_id):\n",
    "    #show the post with te given id ,the id is an interger\n",
    "    return f'Post{post_id}'\n",
    "\n",
    "@app.route('/path/<path:subpath>')\n",
    "def show_subpath(subpath):\n",
    "    #show the subpath after /path/\n",
    "    return f'Subpath {escape(subpath)}'\n"
   ]
  }
 ],
 "metadata": {
  "kernelspec": {
   "display_name": "env (3.13.5)",
   "language": "python",
   "name": "python3"
  },
  "language_info": {
   "codemirror_mode": {
    "name": "ipython",
    "version": 3
   },
   "file_extension": ".py",
   "mimetype": "text/x-python",
   "name": "python",
   "nbconvert_exporter": "python",
   "pygments_lexer": "ipython3",
   "version": "3.13.5"
  }
 },
 "nbformat": 4,
 "nbformat_minor": 5
}
