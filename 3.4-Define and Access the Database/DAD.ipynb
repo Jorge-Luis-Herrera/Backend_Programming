{
 "cells": [
  {
   "cell_type": "markdown",
   "id": "cbf0a194",
   "metadata": {},
   "source": [
    "# Define and Access the Database"
   ]
  },
  {
   "cell_type": "markdown",
   "id": "929dec59",
   "metadata": {},
   "source": [
    "The application will use a SQLite database to store users and posts. Python comes with built-in support for SQLite in\n",
    "the sqlite3 module."
   ]
  },
  {
   "cell_type": "markdown",
   "id": "0e5373e9",
   "metadata": {},
   "source": [
    "SQLite is convenient because it doesn’t require setting up a separate database server and is built-in to Python. How-\n",
    "ever, if concurrent requests try to write to the database at the same time, they will slow down as each write happens\n",
    "sequentially. Small applications won’t notice this. Once you become big, you may want to switch to a different database."
   ]
  },
  {
   "cell_type": "markdown",
   "id": "1bc11208",
   "metadata": {},
   "source": [
    "#### Connect the Database"
   ]
  },
  {
   "cell_type": "markdown",
   "id": "e005b571",
   "metadata": {},
   "source": [
    "The first thing to do when working with a MySql database (and most other Python database libraries) is to create a\n",
    "connection to it. Any queries and operations are performed using the connection, which is closed after the work is\n",
    "finished."
   ]
  },
  {
   "cell_type": "code",
   "execution_count": null,
   "id": "b0597b78",
   "metadata": {},
   "outputs": [],
   "source": [
    "import sqlite3\n",
    "import click\n",
    "from flask import current_app, g\n",
    "\n",
    "def get_db():\n",
    "    if 'db' not in g:\n",
    "        g.db = sqlite3.connect(\n",
    "            current_app.config['DATABASE'],\n",
    "            detect_types=sqlite3.PARSE_DECLTYPES\n",
    "        )\n",
    "        g.db.row_factory = sqlite3.Row\n",
    "    return g.db\n",
    "\n",
    "def close_db():\n",
    "    db = g.pop('db',None)\n",
    "\n",
    "    if db is not None:\n",
    "        db.close()"
   ]
  },
  {
   "cell_type": "markdown",
   "id": "79dac4b1",
   "metadata": {},
   "source": [
    "In web applications this connection is typically tied to the request. It is created at some point when handling a request,\n",
    "and closed before the response is sent."
   ]
  }
 ],
 "metadata": {
  "kernelspec": {
   "display_name": "env (3.13.5)",
   "language": "python",
   "name": "python3"
  },
  "language_info": {
   "name": "python",
   "version": "3.13.5"
  }
 },
 "nbformat": 4,
 "nbformat_minor": 5
}
