{
 "cells": [
  {
   "cell_type": "markdown",
   "id": "62a7945b",
   "metadata": {},
   "source": [
    "# HTML Escaping\n",
    "\n",
    "When returning HTML (the default response type in Flask), any user-provided values rendered in the output must be\n",
    "escaped to protect from injection attacks. HTML templates rendered with Jinja, introduced later, will do this automat-\n",
    "ically.\n",
    "escape(), shown here, can be used manually. It is omitted in most examples for brevity, but you should always be\n",
    "aware of how you’re using untrusted data."
   ]
  },
  {
   "cell_type": "code",
   "execution_count": 4,
   "id": "e9c9f76d",
   "metadata": {},
   "outputs": [],
   "source": [
    "from flask import Flask\n",
    "from markupsafe import escape\n",
    "\n",
    "Application = Flask(__name__)\n",
    "@Application.route(\"/\")\n",
    "\n",
    "def hello(name):\n",
    "    return f\"Hello,{escape(name)}!\""
   ]
  },
  {
   "cell_type": "markdown",
   "id": "4b9374a5",
   "metadata": {},
   "source": [
    "**First, we import the escape function from markupsafe**"
   ]
  },
  {
   "cell_type": "code",
   "execution_count": null,
   "id": "f5245ae7",
   "metadata": {},
   "outputs": [],
   "source": [
    "from markupsafe import escape\n",
    "# The escape function is used to convert potentially dangerous characters in user input\n",
    "# into safe HTML entities to prevent injection attacks"
   ]
  },
  {
   "cell_type": "markdown",
   "id": "836e5d41",
   "metadata": {},
   "source": [
    "**Creating a function that safely handles user input**"
   ]
  },
  {
   "cell_type": "code",
   "execution_count": null,
   "id": "deaf29de",
   "metadata": {},
   "outputs": [],
   "source": [
    "def hello(name):\n",
    "    return f\"Hello,{escape(name)}!\"\n",
    "\n",
    "# def hello(name): - This defines a function that takes the 'name' parameter from the URL\n",
    "# return f\"Hello,{escape(name)}!\" - This returns a formatted string that includes:\n",
    "#   - \"Hello,\" as literal text\n",
    "#   - escape(name) which converts dangerous characters in 'name' to safe HTML entities\n",
    "#   - \"!\" as literal text\n",
    "# \n",
    "# The escape() function protects against XSS (Cross-Site Scripting) attacks by converting\n",
    "# characters like <, >, &, and quotes into their HTML entity equivalents"
   ]
  },
  {
   "cell_type": "markdown",
   "id": "328eb44f",
   "metadata": {},
   "source": [
    "**Example of why escaping is important:**\n",
    "\n",
    "Without escaping, if someone visits `/&lt;script&gt;alert('XSS')&lt;/script&gt;`, the browser might execute the script.\n",
    "\n",
    "With escaping, the same input becomes safe text: `&amp;lt;script&amp;gt;alert('XSS')&amp;lt;/script&amp;gt;`"
   ]
  }
 ],
 "metadata": {
  "kernelspec": {
   "display_name": "env (3.13.5)",
   "language": "python",
   "name": "python3"
  },
  "language_info": {
   "codemirror_mode": {
    "name": "ipython",
    "version": 3
   },
   "file_extension": ".py",
   "mimetype": "text/x-python",
   "name": "python",
   "nbconvert_exporter": "python",
   "pygments_lexer": "ipython3",
   "version": "3.13.5"
  }
 },
 "nbformat": 4,
 "nbformat_minor": 5
}
