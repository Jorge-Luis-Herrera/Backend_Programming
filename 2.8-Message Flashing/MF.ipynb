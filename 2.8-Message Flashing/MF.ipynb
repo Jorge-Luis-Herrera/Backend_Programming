{
 "cells": [
  {
   "cell_type": "markdown",
   "id": "3997923a",
   "metadata": {},
   "source": [
    "# Message Flashing"
   ]
  },
  {
   "cell_type": "markdown",
   "id": "a4109c1d",
   "metadata": {},
   "source": [
    "Simple Flashing"
   ]
  },
  {
   "cell_type": "code",
   "execution_count": null,
   "id": "15ae1baa",
   "metadata": {},
   "outputs": [],
   "source": [
    "from flask import Flask,flash, redirect, render_template,request, url_for\n",
    "\n",
    "app = Flask(__name__)\n",
    "app.secret_key = b'_5#y2L\"F4Q8z\\n\\xec]/'\n",
    "\n",
    "@app.route('/')\n",
    "def index():\n",
    "    return render_template('index.html')\n",
    "\n",
    "@app.route('/login', methods=['GET', 'POST'])\n",
    "def login():\n",
    "    error = None\n",
    "    if request.method == 'POST':\n",
    "        if request.form['username'] != 'admin' or \\\n",
    "                request.form['password'] != 'secret':\n",
    "            error = 'Invalid credentials'"
   ]
  }
 ],
 "metadata": {
  "kernelspec": {
   "display_name": "env (3.13.5)",
   "language": "python",
   "name": "python3"
  },
  "language_info": {
   "codemirror_mode": {
    "name": "ipython",
    "version": 3
   },
   "file_extension": ".py",
   "mimetype": "text/x-python",
   "name": "python",
   "nbconvert_exporter": "python",
   "pygments_lexer": "ipython3",
   "version": "3.13.5"
  }
 },
 "nbformat": 4,
 "nbformat_minor": 5
}
